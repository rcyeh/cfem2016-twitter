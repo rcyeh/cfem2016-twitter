{
 "cells": [
  {
   "cell_type": "code",
   "execution_count": 1,
   "metadata": {
    "collapsed": true
   },
   "outputs": [],
   "source": [
    "import mysql.connector"
   ]
  },
  {
   "cell_type": "code",
   "execution_count": 4,
   "metadata": {
    "collapsed": true
   },
   "outputs": [],
   "source": [
    "config = {\n",
    "  'user': 'r',\n",
    "  'password': '',\n",
    "  'host': '127.0.0.1',\n",
    "  'database': 'twitter',\n",
    "  'raise_on_warnings': True,\n",
    "}\n",
    "\n",
    "cnx = mysql.connector.connect(**config)"
   ]
  },
  {
   "cell_type": "code",
   "execution_count": 5,
   "metadata": {
    "collapsed": true
   },
   "outputs": [],
   "source": [
    "sql = \"CREATE TABLE IF NOT EXISTS tweets (a JSON);\""
   ]
  },
  {
   "cell_type": "code",
   "execution_count": 6,
   "metadata": {
    "collapsed": true
   },
   "outputs": [],
   "source": [
    "curs = cnx.cursor()"
   ]
  },
  {
   "cell_type": "code",
   "execution_count": 7,
   "metadata": {
    "collapsed": false
   },
   "outputs": [
    {
     "ename": "DatabaseError",
     "evalue": "1050: Table 'tweets' already exists",
     "output_type": "error",
     "traceback": [
      "\u001b[1;31m---------------------------------------------------------------------------\u001b[0m",
      "\u001b[1;31mDatabaseError\u001b[0m                             Traceback (most recent call last)",
      "\u001b[1;32m<ipython-input-7-6a6eca696432>\u001b[0m in \u001b[0;36m<module>\u001b[1;34m()\u001b[0m\n\u001b[1;32m----> 1\u001b[1;33m \u001b[0mcurs\u001b[0m\u001b[1;33m.\u001b[0m\u001b[0mexecute\u001b[0m\u001b[1;33m(\u001b[0m\u001b[0msql\u001b[0m\u001b[1;33m)\u001b[0m\u001b[1;33m\u001b[0m\u001b[0m\n\u001b[0m",
      "\u001b[1;32m/opt/anaconda/lib/python3.5/site-packages/mysql/connector/cursor.py\u001b[0m in \u001b[0;36mexecute\u001b[1;34m(self, operation, params, multi)\u001b[0m\n\u001b[0;32m    505\u001b[0m             \u001b[0mself\u001b[0m\u001b[1;33m.\u001b[0m\u001b[0m_executed\u001b[0m \u001b[1;33m=\u001b[0m \u001b[0mstmt\u001b[0m\u001b[1;33m\u001b[0m\u001b[0m\n\u001b[0;32m    506\u001b[0m             \u001b[1;32mtry\u001b[0m\u001b[1;33m:\u001b[0m\u001b[1;33m\u001b[0m\u001b[0m\n\u001b[1;32m--> 507\u001b[1;33m                 \u001b[0mself\u001b[0m\u001b[1;33m.\u001b[0m\u001b[0m_handle_result\u001b[0m\u001b[1;33m(\u001b[0m\u001b[0mself\u001b[0m\u001b[1;33m.\u001b[0m\u001b[0m_connection\u001b[0m\u001b[1;33m.\u001b[0m\u001b[0mcmd_query\u001b[0m\u001b[1;33m(\u001b[0m\u001b[0mstmt\u001b[0m\u001b[1;33m)\u001b[0m\u001b[1;33m)\u001b[0m\u001b[1;33m\u001b[0m\u001b[0m\n\u001b[0m\u001b[0;32m    508\u001b[0m             \u001b[1;32mexcept\u001b[0m \u001b[0merrors\u001b[0m\u001b[1;33m.\u001b[0m\u001b[0mInterfaceError\u001b[0m\u001b[1;33m:\u001b[0m\u001b[1;33m\u001b[0m\u001b[0m\n\u001b[0;32m    509\u001b[0m                 \u001b[1;32mif\u001b[0m \u001b[0mself\u001b[0m\u001b[1;33m.\u001b[0m\u001b[0m_connection\u001b[0m\u001b[1;33m.\u001b[0m\u001b[0m_have_next_result\u001b[0m\u001b[1;33m:\u001b[0m  \u001b[1;31m# pylint: disable=W0212\u001b[0m\u001b[1;33m\u001b[0m\u001b[0m\n",
      "\u001b[1;32m/opt/anaconda/lib/python3.5/site-packages/mysql/connector/cursor.py\u001b[0m in \u001b[0;36m_handle_result\u001b[1;34m(self, result)\u001b[0m\n\u001b[0;32m    423\u001b[0m             \u001b[1;31m# Weak test, must be an OK-packet\u001b[0m\u001b[1;33m\u001b[0m\u001b[1;33m\u001b[0m\u001b[0m\n\u001b[0;32m    424\u001b[0m             \u001b[0mself\u001b[0m\u001b[1;33m.\u001b[0m\u001b[0m_connection\u001b[0m\u001b[1;33m.\u001b[0m\u001b[0munread_result\u001b[0m \u001b[1;33m=\u001b[0m \u001b[1;32mFalse\u001b[0m\u001b[1;33m\u001b[0m\u001b[0m\n\u001b[1;32m--> 425\u001b[1;33m             \u001b[0mself\u001b[0m\u001b[1;33m.\u001b[0m\u001b[0m_handle_noresultset\u001b[0m\u001b[1;33m(\u001b[0m\u001b[0mresult\u001b[0m\u001b[1;33m)\u001b[0m\u001b[1;33m\u001b[0m\u001b[0m\n\u001b[0m\u001b[0;32m    426\u001b[0m         \u001b[1;32melse\u001b[0m\u001b[1;33m:\u001b[0m\u001b[1;33m\u001b[0m\u001b[0m\n\u001b[0;32m    427\u001b[0m             \u001b[1;32mraise\u001b[0m \u001b[0merrors\u001b[0m\u001b[1;33m.\u001b[0m\u001b[0mInterfaceError\u001b[0m\u001b[1;33m(\u001b[0m\u001b[1;34m'Invalid result'\u001b[0m\u001b[1;33m)\u001b[0m\u001b[1;33m\u001b[0m\u001b[0m\n",
      "\u001b[1;32m/opt/anaconda/lib/python3.5/site-packages/mysql/connector/cursor.py\u001b[0m in \u001b[0;36m_handle_noresultset\u001b[1;34m(self, res)\u001b[0m\n\u001b[0;32m    393\u001b[0m \u001b[1;33m\u001b[0m\u001b[0m\n\u001b[0;32m    394\u001b[0m         \u001b[1;32mif\u001b[0m \u001b[0mself\u001b[0m\u001b[1;33m.\u001b[0m\u001b[0m_connection\u001b[0m\u001b[1;33m.\u001b[0m\u001b[0mget_warnings\u001b[0m \u001b[1;32mis\u001b[0m \u001b[1;32mTrue\u001b[0m \u001b[1;32mand\u001b[0m \u001b[0mself\u001b[0m\u001b[1;33m.\u001b[0m\u001b[0m_warning_count\u001b[0m\u001b[1;33m:\u001b[0m\u001b[1;33m\u001b[0m\u001b[0m\n\u001b[1;32m--> 395\u001b[1;33m             \u001b[0mself\u001b[0m\u001b[1;33m.\u001b[0m\u001b[0m_warnings\u001b[0m \u001b[1;33m=\u001b[0m \u001b[0mself\u001b[0m\u001b[1;33m.\u001b[0m\u001b[0m_fetch_warnings\u001b[0m\u001b[1;33m(\u001b[0m\u001b[1;33m)\u001b[0m\u001b[1;33m\u001b[0m\u001b[0m\n\u001b[0m\u001b[0;32m    396\u001b[0m \u001b[1;33m\u001b[0m\u001b[0m\n\u001b[0;32m    397\u001b[0m     \u001b[1;32mdef\u001b[0m \u001b[0m_handle_resultset\u001b[0m\u001b[1;33m(\u001b[0m\u001b[0mself\u001b[0m\u001b[1;33m)\u001b[0m\u001b[1;33m:\u001b[0m\u001b[1;33m\u001b[0m\u001b[0m\n",
      "\u001b[1;32m/opt/anaconda/lib/python3.5/site-packages/mysql/connector/cursor.py\u001b[0m in \u001b[0;36m_fetch_warnings\u001b[1;34m(self)\u001b[0m\n\u001b[0;32m    750\u001b[0m \u001b[1;33m\u001b[0m\u001b[0m\n\u001b[0;32m    751\u001b[0m         \u001b[1;32mif\u001b[0m \u001b[0mself\u001b[0m\u001b[1;33m.\u001b[0m\u001b[0m_connection\u001b[0m\u001b[1;33m.\u001b[0m\u001b[0mraise_on_warnings\u001b[0m \u001b[1;32mis\u001b[0m \u001b[1;32mTrue\u001b[0m\u001b[1;33m:\u001b[0m\u001b[1;33m\u001b[0m\u001b[0m\n\u001b[1;32m--> 752\u001b[1;33m             \u001b[1;32mraise\u001b[0m \u001b[0merrors\u001b[0m\u001b[1;33m.\u001b[0m\u001b[0mget_mysql_exception\u001b[0m\u001b[1;33m(\u001b[0m\u001b[0mres\u001b[0m\u001b[1;33m[\u001b[0m\u001b[1;36m0\u001b[0m\u001b[1;33m]\u001b[0m\u001b[1;33m[\u001b[0m\u001b[1;36m1\u001b[0m\u001b[1;33m]\u001b[0m\u001b[1;33m,\u001b[0m \u001b[0mres\u001b[0m\u001b[1;33m[\u001b[0m\u001b[1;36m0\u001b[0m\u001b[1;33m]\u001b[0m\u001b[1;33m[\u001b[0m\u001b[1;36m2\u001b[0m\u001b[1;33m]\u001b[0m\u001b[1;33m)\u001b[0m\u001b[1;33m\u001b[0m\u001b[0m\n\u001b[0m\u001b[0;32m    753\u001b[0m         \u001b[1;32melse\u001b[0m\u001b[1;33m:\u001b[0m\u001b[1;33m\u001b[0m\u001b[0m\n\u001b[0;32m    754\u001b[0m             \u001b[1;32mif\u001b[0m \u001b[0mlen\u001b[0m\u001b[1;33m(\u001b[0m\u001b[0mres\u001b[0m\u001b[1;33m)\u001b[0m\u001b[1;33m:\u001b[0m\u001b[1;33m\u001b[0m\u001b[0m\n",
      "\u001b[1;31mDatabaseError\u001b[0m: 1050: Table 'tweets' already exists"
     ]
    }
   ],
   "source": [
    "curs.execute(sql)"
   ]
  },
  {
   "cell_type": "code",
   "execution_count": 8,
   "metadata": {
    "collapsed": true
   },
   "outputs": [],
   "source": [
    "curs.execute(\"TRUNCATE TABLE tweets;\")"
   ]
  },
  {
   "cell_type": "code",
   "execution_count": 9,
   "metadata": {
    "collapsed": true
   },
   "outputs": [],
   "source": [
    "import gzip"
   ]
  },
  {
   "cell_type": "code",
   "execution_count": 10,
   "metadata": {
    "collapsed": true
   },
   "outputs": [],
   "source": [
    "import json"
   ]
  },
  {
   "cell_type": "code",
   "execution_count": 24,
   "metadata": {
    "collapsed": false
   },
   "outputs": [
    {
     "ename": "NameError",
     "evalue": "name 'quote' is not defined",
     "output_type": "error",
     "traceback": [
      "\u001b[1;31m---------------------------------------------------------------------------\u001b[0m",
      "\u001b[1;31mNameError\u001b[0m                                 Traceback (most recent call last)",
      "\u001b[1;32m<ipython-input-24-5023b2307189>\u001b[0m in \u001b[0;36m<module>\u001b[1;34m()\u001b[0m\n\u001b[1;32m----> 1\u001b[1;33m \u001b[0mquote\u001b[0m\u001b[1;33m(\u001b[0m\u001b[0mline\u001b[0m\u001b[1;33m)\u001b[0m\u001b[1;33m\u001b[0m\u001b[0m\n\u001b[0m",
      "\u001b[1;31mNameError\u001b[0m: name 'quote' is not defined"
     ]
    }
   ],
   "source": [
    "quote(line)"
   ]
  },
  {
   "cell_type": "code",
   "execution_count": 25,
   "metadata": {
    "collapsed": true
   },
   "outputs": [],
   "source": [
    "import urllib.parse"
   ]
  },
  {
   "cell_type": "code",
   "execution_count": 30,
   "metadata": {
    "collapsed": false
   },
   "outputs": [
    {
     "data": {
      "text/plain": [
       "'<A HREF=\"http\"'"
      ]
     },
     "execution_count": 30,
     "metadata": {},
     "output_type": "execute_result"
    }
   ],
   "source": []
  },
  {
   "cell_type": "code",
   "execution_count": 43,
   "metadata": {
    "collapsed": false,
    "scrolled": false
   },
   "outputs": [],
   "source": [
    "i = 0\n",
    "with open(\"sample_tweets_2.json\", \"r\") as f:\n",
    "    for line in f:\n",
    "        newline = line.rstrip().replace('\\\\','\\\\\\\\').replace(\"'\", \"\\\\'\")\n",
    "        sql = \"INSERT INTO twitter.tweets (a) VALUES ('\" + newline + \"');\"\n",
    "        curs.execute(sql)\n",
    "        i += 1"
   ]
  },
  {
   "cell_type": "code",
   "execution_count": 44,
   "metadata": {
    "collapsed": true
   },
   "outputs": [],
   "source": [
    "cnx.commit()"
   ]
  },
  {
   "cell_type": "code",
   "execution_count": 45,
   "metadata": {
    "collapsed": true
   },
   "outputs": [],
   "source": [
    "import datetime"
   ]
  },
  {
   "cell_type": "code",
   "execution_count": 46,
   "metadata": {
    "collapsed": false
   },
   "outputs": [
    {
     "data": {
      "text/plain": [
       "datetime.datetime(2016, 4, 24, 23, 25, 10, 1308)"
      ]
     },
     "execution_count": 46,
     "metadata": {},
     "output_type": "execute_result"
    }
   ],
   "source": [
    "datetime.datetime.now()"
   ]
  },
  {
   "cell_type": "code",
   "execution_count": 47,
   "metadata": {
    "collapsed": false
   },
   "outputs": [
    {
     "data": {
      "text/plain": [
       "1000000"
      ]
     },
     "execution_count": 47,
     "metadata": {},
     "output_type": "execute_result"
    }
   ],
   "source": [
    "i"
   ]
  },
  {
   "cell_type": "code",
   "execution_count": 48,
   "metadata": {
    "collapsed": true
   },
   "outputs": [],
   "source": [
    "# Took 30 minutes to insert 1 MM records"
   ]
  },
  {
   "cell_type": "code",
   "execution_count": 53,
   "metadata": {
    "collapsed": false
   },
   "outputs": [],
   "source": [
    "sql = \"\"\"\n",
    "SELECT CAST(a->\"$.timestamp_ms\" / 60000 AS SIGNED) AS m\n",
    ", COUNT(1) AS t\n",
    "FROM twitter.tweets\n",
    "GROUP BY CAST(a->\"$.timestamp_ms\" / 60000 AS SIGNED)\n",
    "ORDER BY m\n",
    "\"\"\"\n",
    "\n",
    "curs.execute(sql)\n",
    "results = curs.fetchall()\n"
   ]
  },
  {
   "cell_type": "code",
   "execution_count": 54,
   "metadata": {
    "collapsed": false
   },
   "outputs": [
    {
     "data": {
      "text/plain": [
       "[(None, 282737),\n",
       " (24346215, 2172),\n",
       " (24346216, 2430),\n",
       " (24346217, 2480),\n",
       " (24346218, 2379),\n",
       " (24346219, 2338),\n",
       " (24346220, 2419),\n",
       " (24346221, 2344),\n",
       " (24346222, 2342),\n",
       " (24346223, 2347),\n",
       " (24346224, 2427),\n",
       " (24346225, 2376),\n",
       " (24346226, 2453),\n",
       " (24346227, 2442),\n",
       " (24346228, 2361),\n",
       " (24346229, 2468),\n",
       " (24346230, 2741),\n",
       " (24346231, 2813),\n",
       " (24346232, 2754),\n",
       " (24346233, 2578),\n",
       " (24346234, 2429),\n",
       " (24346235, 2494),\n",
       " (24346236, 2597),\n",
       " (24346237, 2679),\n",
       " (24346238, 2467),\n",
       " (24346239, 2612),\n",
       " (24346240, 2624),\n",
       " (24346241, 2490),\n",
       " (24346242, 2478),\n",
       " (24346243, 2556),\n",
       " (24346244, 2511),\n",
       " (24346245, 2532),\n",
       " (24346246, 2532),\n",
       " (24346247, 2496),\n",
       " (24346248, 2513),\n",
       " (24346249, 2616),\n",
       " (24346250, 2595),\n",
       " (24346251, 2406),\n",
       " (24346252, 2454),\n",
       " (24346253, 2314),\n",
       " (24346254, 2469),\n",
       " (24346255, 2464),\n",
       " (24346256, 2365),\n",
       " (24346257, 2365),\n",
       " (24346258, 2373),\n",
       " (24346259, 2433),\n",
       " (24346260, 2634),\n",
       " (24346261, 2953),\n",
       " (24346262, 2566),\n",
       " (24346263, 2582),\n",
       " (24346264, 2678),\n",
       " (24346265, 2567),\n",
       " (24346266, 2632),\n",
       " (24346267, 2573),\n",
       " (24346268, 2584),\n",
       " (24346269, 2539),\n",
       " (24346270, 2754),\n",
       " (24346271, 2707),\n",
       " (24346272, 2542),\n",
       " (24346273, 2572),\n",
       " (24346274, 2501),\n",
       " (24346275, 2705),\n",
       " (24346276, 2592),\n",
       " (24346277, 2531),\n",
       " (24346278, 2527),\n",
       " (24346279, 2552),\n",
       " (24346280, 2598),\n",
       " (24346281, 2450),\n",
       " (24346282, 2525),\n",
       " (24346283, 2456),\n",
       " (24346284, 2475),\n",
       " (24346285, 2484),\n",
       " (24346286, 2472),\n",
       " (24346287, 2444),\n",
       " (24346288, 2458),\n",
       " (24346289, 2496),\n",
       " (24346290, 2648),\n",
       " (24346291, 2613),\n",
       " (24346292, 2441),\n",
       " (24346293, 2454),\n",
       " (24346294, 2484),\n",
       " (24346295, 2599),\n",
       " (24346296, 2554),\n",
       " (24346297, 2486),\n",
       " (24346298, 2632),\n",
       " (24346299, 2600),\n",
       " (24346300, 2518),\n",
       " (24346301, 2540),\n",
       " (24346302, 2488),\n",
       " (24346303, 2495),\n",
       " (24346304, 2427),\n",
       " (24346305, 2564),\n",
       " (24346306, 2444),\n",
       " (24346307, 2535),\n",
       " (24346308, 2569),\n",
       " (24346309, 2411),\n",
       " (24346310, 2592),\n",
       " (24346311, 2558),\n",
       " (24346312, 2373),\n",
       " (24346313, 2405),\n",
       " (24346314, 2425),\n",
       " (24346315, 2402),\n",
       " (24346316, 2365),\n",
       " (24346317, 2299),\n",
       " (24346318, 2431),\n",
       " (24346319, 2347),\n",
       " (24346320, 2616),\n",
       " (24346321, 2702),\n",
       " (24346322, 2547),\n",
       " (24346323, 2511),\n",
       " (24346324, 2601),\n",
       " (24346325, 2521),\n",
       " (24346326, 2497),\n",
       " (24346327, 2422),\n",
       " (24346328, 2410),\n",
       " (24346329, 2417),\n",
       " (24346330, 2486),\n",
       " (24346331, 2428),\n",
       " (24346332, 2369),\n",
       " (24346333, 2529),\n",
       " (24346334, 2338),\n",
       " (24346335, 2442),\n",
       " (24346336, 2456),\n",
       " (24346337, 2432),\n",
       " (24346338, 2450),\n",
       " (24346339, 2342),\n",
       " (24346340, 2341),\n",
       " (24346341, 2313),\n",
       " (24346342, 2243),\n",
       " (24346343, 2283),\n",
       " (24346344, 2246),\n",
       " (24346345, 2362),\n",
       " (24346346, 2262),\n",
       " (24346347, 2288),\n",
       " (24346348, 2238),\n",
       " (24346349, 2309),\n",
       " (24346350, 2475),\n",
       " (24346351, 2389),\n",
       " (24346352, 2294),\n",
       " (24346353, 2299),\n",
       " (24346354, 2213),\n",
       " (24346355, 2273),\n",
       " (24346356, 2206),\n",
       " (24346357, 2419),\n",
       " (24346358, 2323),\n",
       " (24346359, 2232),\n",
       " (24346360, 2383),\n",
       " (24346361, 2229),\n",
       " (24346362, 2165),\n",
       " (24346363, 2294),\n",
       " (24346364, 2256),\n",
       " (24346365, 2301),\n",
       " (24346366, 2336),\n",
       " (24346367, 2220),\n",
       " (24346368, 2240),\n",
       " (24346369, 2178),\n",
       " (24346370, 2321),\n",
       " (24346371, 2172),\n",
       " (24346372, 2214),\n",
       " (24346373, 2216),\n",
       " (24346374, 2130),\n",
       " (24346375, 2185),\n",
       " (24346376, 2153),\n",
       " (24346377, 2088),\n",
       " (24346378, 2118),\n",
       " (24346379, 2119),\n",
       " (24346380, 2357),\n",
       " (24346381, 2296),\n",
       " (24346382, 2279),\n",
       " (24346383, 2241),\n",
       " (24346384, 2134),\n",
       " (24346385, 2178),\n",
       " (24346386, 2267),\n",
       " (24346387, 2168),\n",
       " (24346388, 2215),\n",
       " (24346389, 2292),\n",
       " (24346390, 2300),\n",
       " (24346391, 2235),\n",
       " (24346392, 2159),\n",
       " (24346393, 2133),\n",
       " (24346394, 2203),\n",
       " (24346395, 2240),\n",
       " (24346396, 2263),\n",
       " (24346397, 2241),\n",
       " (24346398, 2183),\n",
       " (24346399, 2271),\n",
       " (24346400, 2224),\n",
       " (24346401, 2163),\n",
       " (24346402, 2230),\n",
       " (24346403, 2049),\n",
       " (24346404, 2169),\n",
       " (24346405, 2164),\n",
       " (24346406, 2151),\n",
       " (24346407, 2157),\n",
       " (24346408, 2104),\n",
       " (24346409, 2080),\n",
       " (24346410, 2245),\n",
       " (24346411, 2074),\n",
       " (24346412, 2063),\n",
       " (24346413, 2041),\n",
       " (24346414, 2042),\n",
       " (24346415, 2047),\n",
       " (24346416, 2056),\n",
       " (24346417, 2116),\n",
       " (24346418, 2003),\n",
       " (24346419, 2168),\n",
       " (24346420, 2168),\n",
       " (24346421, 2158),\n",
       " (24346422, 2074),\n",
       " (24346423, 2173),\n",
       " (24346424, 1972),\n",
       " (24346425, 2057),\n",
       " (24346426, 2167),\n",
       " (24346427, 2064),\n",
       " (24346428, 2029),\n",
       " (24346429, 1928),\n",
       " (24346430, 1992),\n",
       " (24346431, 1988),\n",
       " (24346432, 2127),\n",
       " (24346433, 2055),\n",
       " (24346434, 2034),\n",
       " (24346435, 2074),\n",
       " (24346436, 2015),\n",
       " (24346437, 2031),\n",
       " (24346438, 1981),\n",
       " (24346439, 2029),\n",
       " (24346440, 2304),\n",
       " (24346441, 2345),\n",
       " (24346442, 2243),\n",
       " (24346443, 2065),\n",
       " (24346444, 2117),\n",
       " (24346445, 2042),\n",
       " (24346446, 2058),\n",
       " (24346447, 2080),\n",
       " (24346448, 2144),\n",
       " (24346449, 2015),\n",
       " (24346450, 2113),\n",
       " (24346451, 2050),\n",
       " (24346452, 1994),\n",
       " (24346453, 2041),\n",
       " (24346454, 2020),\n",
       " (24346455, 2143),\n",
       " (24346456, 2139),\n",
       " (24346457, 2069),\n",
       " (24346458, 2093),\n",
       " (24346459, 2016),\n",
       " (24346460, 2083),\n",
       " (24346461, 2034),\n",
       " (24346462, 2056),\n",
       " (24346463, 1917),\n",
       " (24346464, 1959),\n",
       " (24346465, 2003),\n",
       " (24346466, 2011),\n",
       " (24346467, 2019),\n",
       " (24346468, 2001),\n",
       " (24346469, 1912),\n",
       " (24346470, 2129),\n",
       " (24346471, 2011),\n",
       " (24346472, 2069),\n",
       " (24346473, 2041),\n",
       " (24346474, 2000),\n",
       " (24346475, 2048),\n",
       " (24346476, 2171),\n",
       " (24346477, 2183),\n",
       " (24346478, 2126),\n",
       " (24346479, 2024),\n",
       " (24346480, 2091),\n",
       " (24346481, 2053),\n",
       " (24346482, 2182),\n",
       " (24346483, 2111),\n",
       " (24346484, 2062),\n",
       " (24346485, 2134),\n",
       " (24346486, 2126),\n",
       " (24346487, 2058),\n",
       " (24346488, 2085),\n",
       " (24346489, 2008),\n",
       " (24346490, 1988),\n",
       " (24346491, 2018),\n",
       " (24346492, 2022),\n",
       " (24346493, 1971),\n",
       " (24346494, 1933),\n",
       " (24346495, 2017),\n",
       " (24346496, 1892),\n",
       " (24346497, 1963),\n",
       " (24346498, 1801),\n",
       " (24346499, 1865),\n",
       " (24346500, 2272),\n",
       " (24346501, 2224),\n",
       " (24346502, 2125),\n",
       " (24346503, 2076),\n",
       " (24346504, 2114),\n",
       " (24346505, 2126),\n",
       " (24346506, 2101),\n",
       " (24346507, 1957),\n",
       " (24346508, 2071),\n",
       " (24346509, 2206),\n",
       " (24346510, 2126),\n",
       " (24346511, 2175),\n",
       " (24346512, 2107),\n",
       " (24346513, 2070),\n",
       " (24346514, 1979),\n",
       " (24346515, 2162),\n",
       " (24346516, 2181),\n",
       " (24346517, 2070),\n",
       " (24346518, 2116),\n",
       " (24346519, 1985),\n",
       " (24346520, 1950),\n",
       " (24346521, 2037),\n",
       " (24346522, 2091),\n",
       " (24346523, 1935),\n",
       " (24346524, 1959),\n",
       " (24346525, 2068),\n",
       " (24346526, 1984),\n",
       " (24346527, 2041),\n",
       " (24346528, 1980),\n",
       " (24346529, 2030),\n",
       " (24346530, 369)]"
      ]
     },
     "execution_count": 54,
     "metadata": {},
     "output_type": "execute_result"
    }
   ],
   "source": [
    "results"
   ]
  },
  {
   "cell_type": "code",
   "execution_count": 55,
   "metadata": {
    "collapsed": false
   },
   "outputs": [
    {
     "data": {
      "text/plain": [
       "317"
      ]
     },
     "execution_count": 55,
     "metadata": {},
     "output_type": "execute_result"
    }
   ],
   "source": [
    "len(results)"
   ]
  },
  {
   "cell_type": "code",
   "execution_count": 56,
   "metadata": {
    "collapsed": false
   },
   "outputs": [],
   "source": [
    "%matplotlib inline"
   ]
  },
  {
   "cell_type": "code",
   "execution_count": 57,
   "metadata": {
    "collapsed": true
   },
   "outputs": [],
   "source": [
    "import matplotlib\n",
    "import matplotlib.pyplot as pyplot"
   ]
  },
  {
   "cell_type": "code",
   "execution_count": 60,
   "metadata": {
    "collapsed": false
   },
   "outputs": [
    {
     "data": {
      "text/plain": [
       "[<matplotlib.lines.Line2D at 0x7f4ed622f6a0>]"
      ]
     },
     "execution_count": 60,
     "metadata": {},
     "output_type": "execute_result"
    },
    {
     "data": {
      "image/png": "[encoded data removed]",
      "text/plain": [
       "<matplotlib.figure.Figure at 0x7f4ef81cca90>"
      ]
     },
     "metadata": {},
     "output_type": "display_data"
    }
   ],
   "source": [
    "pyplot.plot([x[0] for x in results], [x[1] for x in results])"
   ]
  },
  {
   "cell_type": "code",
   "execution_count": 61,
   "metadata": {
    "collapsed": true
   },
   "outputs": [],
   "source": [
    "import gzip"
   ]
  },
  {
   "cell_type": "code",
   "execution_count": 62,
   "metadata": {
    "collapsed": true
   },
   "outputs": [],
   "source": [
    "import json"
   ]
  },
  {
   "cell_type": "code",
   "execution_count": 75,
   "metadata": {
    "collapsed": true
   },
   "outputs": [],
   "source": [
    "import os"
   ]
  },
  {
   "cell_type": "code",
   "execution_count": 79,
   "metadata": {
    "collapsed": false
   },
   "outputs": [
    {
     "ename": "AttributeError",
     "evalue": "'list' object has no attribute 'sorted'",
     "output_type": "error",
     "traceback": [
      "\u001b[1;31m---------------------------------------------------------------------------\u001b[0m",
      "\u001b[1;31mAttributeError\u001b[0m                            Traceback (most recent call last)",
      "\u001b[1;32m<ipython-input-79-656f2c9f36fe>\u001b[0m in \u001b[0;36m<module>\u001b[1;34m()\u001b[0m\n\u001b[1;32m----> 1\u001b[1;33m \u001b[0mos\u001b[0m\u001b[1;33m.\u001b[0m\u001b[0mlistdir\u001b[0m\u001b[1;33m(\u001b[0m\u001b[1;34m\"/home/r/rcy-twitter/raw/aws\"\u001b[0m\u001b[1;33m)\u001b[0m\u001b[1;33m.\u001b[0m\u001b[0msorted\u001b[0m\u001b[1;33m(\u001b[0m\u001b[1;33m)\u001b[0m\u001b[1;33m\u001b[0m\u001b[0m\n\u001b[0m",
      "\u001b[1;31mAttributeError\u001b[0m: 'list' object has no attribute 'sorted'"
     ]
    }
   ],
   "source": [
    "files = os.listdir(\"/home/r/rcy-twitter/raw/aws\")\n",
    "files.sort()"
   ]
  },
  {
   "cell_type": "code",
   "execution_count": 81,
   "metadata": {
    "collapsed": false
   },
   "outputs": [
    {
     "name": "stdout",
     "output_type": "stream",
     "text": [
      "entity_tweets_38.json.gz\n",
      "entity_tweets_30.json.gz\n",
      "entity_tweets_19.json.gz\n",
      "entity_tweets_64.json.gz\n",
      "entity_tweets_72.json.gz\n",
      "entity_tweets_59.json.gz\n",
      "entity_tweets_48.json.gz\n",
      "entity_tweets_51.json.gz\n",
      "entity_tweets_15.json.gz\n",
      "entity_tweets_35.json.gz\n",
      "entity_tweets_7.json.gz\n",
      "entity_tweets_17.json.gz\n",
      "entity_tweets_81.json.gz\n",
      "entity_tweets_34.json.gz\n",
      "entity_tweets_53.json.gz\n",
      "entity_tweets_33.json.gz\n",
      "entity_tweets_49.json.gz\n",
      "entity_tweets_80.json.gz\n",
      "entity_tweets_76.json.gz\n",
      "entity_tweets_79.json.gz\n",
      "entity_tweets_22.json.gz\n",
      "entity_tweets_45.json.gz\n",
      "entity_tweets_36.json.gz\n",
      "entity_tweets_11.json.gz\n",
      "entity_tweets_60.json.gz\n",
      "entity_tweets_50.json.gz\n",
      "entity_tweets_5.json.gz\n",
      "entity_tweets_28.json.gz\n",
      "entity_tweets_69.json.gz\n",
      "entity_tweets_13.json.gz\n",
      "entity_tweets_68.json.gz\n",
      "entity_tweets_55.json.gz\n",
      "entity_tweets_63.json.gz\n",
      "entity_tweets_24.json.gz\n",
      "entity_tweets_9.json.gz\n",
      "entity_tweets_67.json.gz\n",
      "entity_tweets_14.json.gz\n",
      "entity_tweets_73.json.gz\n",
      "entity_tweets_82.json.gz\n",
      "entity_tweets_29.json.gz\n",
      "entity_tweets_42.json.gz\n",
      "entity_tweets_40.json.gz\n",
      "entity_tweets_52.json.gz\n",
      "entity_tweets_23.json.gz\n",
      "entity_tweets_56.json.gz\n",
      "entity_tweets_46.json.gz\n",
      "entity_tweets_25.json.gz\n",
      "entity_tweets_74.json.gz\n",
      "entity_tweets_4.json.gz\n",
      "entity_tweets_6.json.gz\n",
      "entity_tweets_65.json.gz\n",
      "entity_tweets_3.json.gz\n",
      "entity_tweets_20.json.gz\n",
      "entity_tweets_8.json.gz\n",
      "entity_tweets_47.json.gz\n",
      "entity_tweets_71.json.gz\n",
      "entity_tweets_62.json.gz\n",
      "entity_tweets_27.json.gz\n",
      "entity_tweets_61.json.gz\n",
      "entity_tweets_16.json.gz\n",
      "entity_tweets_10.json.gz\n",
      "entity_tweets_1.json.gz\n",
      "entity_tweets_2.json.gz\n",
      "entity_tweets_21.json.gz\n",
      "entity_tweets_78.json.gz\n",
      "entity_tweets_58.json.gz\n",
      "entity_tweets_70.json.gz\n",
      "entity_tweets_31.json.gz\n",
      "entity_tweets_54.json.gz\n",
      "entity_tweets_18.json.gz\n",
      "entity_tweets_75.json.gz\n",
      "entity_tweets_26.json.gz\n",
      "entity_tweets_12.json.gz\n",
      "entity_tweets_66.json.gz\n",
      "entity_tweets_57.json.gz\n",
      "entity_tweets_77.json.gz\n"
     ]
    }
   ],
   "source": [
    "t = []\n",
    "\n",
    "for fn in os.listdir(\"/home/r/rcy-twitter/raw/aws\"):\n",
    "    if fn.startswith(\"entity\") and \"83\" not in fn:\n",
    "        print(fn)\n",
    "        with gzip.open(os.path.join(\"/home/r/rcy-twitter/raw/aws\", fn), \"rb\") as f:\n",
    "            for line in f:\n",
    "                t.append(json.loads(line.decode(\"utf-8\").rstrip()))"
   ]
  },
  {
   "cell_type": "code",
   "execution_count": 82,
   "metadata": {
    "collapsed": false
   },
   "outputs": [
    {
     "data": {
      "text/plain": [
       "19160"
      ]
     },
     "execution_count": 82,
     "metadata": {},
     "output_type": "execute_result"
    }
   ],
   "source": [
    "len(t)"
   ]
  },
  {
   "cell_type": "code",
   "execution_count": 87,
   "metadata": {
    "collapsed": false
   },
   "outputs": [],
   "source": [
    "with open(\"/home/r/rcy-twitter/raw/aws_texts.txt\", \"wt\") as f:\n",
    "    for line in t:\n",
    "        f.write(line['text'].replace(\"\\n\",\" \") + \"\\n\")"
   ]
  },
  {
   "cell_type": "code",
   "execution_count": 73,
   "metadata": {
    "collapsed": false
   },
   "outputs": [
    {
     "data": {
      "text/plain": [
       "{'contributors': None,\n",
       " 'coordinates': None,\n",
       " 'created_at': 'Wed Apr 27 21:27:47 +0000 2016',\n",
       " 'entities': {'hashtags': [{'indices': [44, 52], 'text': 'Twitter'}],\n",
       "  'symbols': [{'indices': [0, 5], 'text': 'TWTR'}],\n",
       "  'urls': [{'display_url': 'stocktwits.com/DollarMilliona…',\n",
       "    'expanded_url': 'http://stocktwits.com/DollarMillionaire/message/53757925',\n",
       "    'indices': [62, 85],\n",
       "    'url': 'https://t.co/GLfilTzmZ1'}],\n",
       "  'user_mentions': [{'id': 783214,\n",
       "    'id_str': '783214',\n",
       "    'indices': [53, 61],\n",
       "    'name': 'Twitter',\n",
       "    'screen_name': 'twitter'}]},\n",
       " 'favorite_count': 0,\n",
       " 'favorited': False,\n",
       " 'filter_level': 'low',\n",
       " 'geo': None,\n",
       " 'id': 725436304754880512,\n",
       " 'id_str': '725436304754880512',\n",
       " 'in_reply_to_screen_name': None,\n",
       " 'in_reply_to_status_id': None,\n",
       " 'in_reply_to_status_id_str': None,\n",
       " 'in_reply_to_user_id': None,\n",
       " 'in_reply_to_user_id_str': None,\n",
       " 'is_quote_status': False,\n",
       " 'lang': 'en',\n",
       " 'place': None,\n",
       " 'possibly_sensitive': False,\n",
       " 'retweet_count': 0,\n",
       " 'retweeted': False,\n",
       " 'source': '<a href=\"http://stocktwits.com\" rel=\"nofollow\">StockTwits Web</a>',\n",
       " 'text': '$TWTR users aren&amp;#39;t too happy either #Twitter @twitter https://t.co/GLfilTzmZ1',\n",
       " 'timestamp_ms': '1461792467665',\n",
       " 'truncated': False,\n",
       " 'user': {'contributors_enabled': False,\n",
       "  'created_at': 'Tue Jul 01 14:22:08 +0000 2008',\n",
       "  'default_profile': False,\n",
       "  'default_profile_image': False,\n",
       "  'description': 'CAVEAT: I tweet all sorts of sh!t in 4 different languages, I will RT what I damn please!!, I tweet for personal amusement',\n",
       "  'favourites_count': 12855,\n",
       "  'follow_request_sent': None,\n",
       "  'followers_count': 1212,\n",
       "  'following': None,\n",
       "  'friends_count': 1004,\n",
       "  'geo_enabled': True,\n",
       "  'id': 15288190,\n",
       "  'id_str': '15288190',\n",
       "  'is_translator': False,\n",
       "  'lang': 'en',\n",
       "  'listed_count': 151,\n",
       "  'location': 'campinas, são paulo, brazil',\n",
       "  'name': 'Cui Bono?',\n",
       "  'notifications': None,\n",
       "  'profile_background_color': 'EEE8F0',\n",
       "  'profile_background_image_url': 'http://pbs.twimg.com/profile_background_images/378800000112070299/caa2917dac97cc5f2ed1fda904f3dd24.jpeg',\n",
       "  'profile_background_image_url_https': 'https://pbs.twimg.com/profile_background_images/378800000112070299/caa2917dac97cc5f2ed1fda904f3dd24.jpeg',\n",
       "  'profile_background_tile': True,\n",
       "  'profile_banner_url': 'https://pbs.twimg.com/profile_banners/15288190/1439573634',\n",
       "  'profile_image_url': 'http://pbs.twimg.com/profile_images/615277171549020160/9MmZ5UP1_normal.jpg',\n",
       "  'profile_image_url_https': 'https://pbs.twimg.com/profile_images/615277171549020160/9MmZ5UP1_normal.jpg',\n",
       "  'profile_link_color': '009999',\n",
       "  'profile_sidebar_border_color': 'FFFFFF',\n",
       "  'profile_sidebar_fill_color': 'DDEEF6',\n",
       "  'profile_text_color': '333333',\n",
       "  'profile_use_background_image': True,\n",
       "  'protected': False,\n",
       "  'screen_name': 'daniel_thecuban',\n",
       "  'statuses_count': 99204,\n",
       "  'time_zone': 'Brasilia',\n",
       "  'url': None,\n",
       "  'utc_offset': -10800,\n",
       "  'verified': False}}"
      ]
     },
     "execution_count": 73,
     "metadata": {},
     "output_type": "execute_result"
    }
   ],
   "source": [
    "t[0]"
   ]
  },
  {
   "cell_type": "code",
   "execution_count": 74,
   "metadata": {
    "collapsed": false
   },
   "outputs": [
    {
     "data": {
      "text/plain": [
       "['$TWTR users aren&amp;#39;t too happy either #Twitter @twitter https://t.co/GLfilTzmZ1',\n",
       " \".@SenCapito @SenatorCarper\\nPsst, uh. Gee. Aren't these YOUR Johnson &amp; Johnson $JNJ products, too ;o)?\\nhttps://t.co/zDtatYv4Sj\",\n",
       " 'RT @stockpulp: This is one of the most relevant articles about $FB now. Facebook shatters estimates, stock rockets higher https://t.co/8bVA…',\n",
       " 'Finalizing the Text2Bid acquisition will immediately make $SING a profitable company.',\n",
       " 'Buzz Q: Facebook impresses with its earnings. Can $FB keep up the momentum?',\n",
       " '$DIS closes at $105.28 #Disney',\n",
       " '@GillianTan The chair is a woman. It was a guy who asked the $HLF question. $HLF',\n",
       " 'Are the Odds Stacked Against Pandora this Quarter? $P https://t.co/EZMNsst750',\n",
       " 'John Bean Technologies Corp $JBT Sees Large Volume Increase on Earnings Beat https://t.co/lBWPfy1xTK',\n",
       " '#Amazon loses court case over in-app purchases. Read more: https://t.co/GngPtllKVt $AMZN',\n",
       " 'Why DreamWorks Animation, #BostonScientific, and Cirrus Logic Jumped Today. Read more: https://t.co/3UWzAJj45F $BSX',\n",
       " 'Cavium Inc $CAVM Posts  Earnings Results, Hits Estimates https://t.co/STaiyKsksJ',\n",
       " 'Why DreamWorks Animation, Boston Scientific, and #CirrusLogic Jumped Today. Read more: https://t.co/E8fs7FBUon $CRUS',\n",
       " 'RT @firstadopter: Constant discussion on Herbalife, Fannie and Freddie during a $VRX hearing. Makes sense',\n",
       " '$LGO.V may go up 6% if the bull pattern is confirmed. Chk confirmation [60%] @ https://t.co/bif0Zk7PhA. Buy level:0.4900.',\n",
       " 'RT @miriamgottfried: Zuckerberg wants to \"cure all disease by the end of the century.\"   $FB',\n",
       " '$OII Q1 2016 Earnings Call Transcript is now available. https://t.co/bFcVCQataN',\n",
       " '$GG......GG GOING TO REPORT EARNINGS JUST BEFORE MIDNIGHT?',\n",
       " 'TY Dolla $ign ft. E40 – Saved (James Hype Remix) https://t.co/yKVMdY9PNv',\n",
       " '$POL Q1 2016 Earnings Call Transcript is now available. https://t.co/36ZbKuHFUN',\n",
       " '$ROK Q2 2016 Earnings Call Transcript is now available. https://t.co/A7TiUgY7Ip',\n",
       " '$HTA Q1 2016 Earnings Call Transcript is now available. https://t.co/HRJ12H9H3Y',\n",
       " 'RT @pjbruno327: Jim Cramer saying he likes $fb...is like me saying i like the broncos to win the super bowl after the game ended',\n",
       " '$spy $ flow Divergence : $EBAY;Services ;uptick/downtick 0.54; price % change 3.18%  ;$ flow  -67.35 M https://t.co/SvfwHn89Mi',\n",
       " \"RT @Adamant_Yves: $ee, I don't under$tand why he would $ay $uch a thing... https://t.co/lIccsDvytD\",\n",
       " '#MGM $hit !! Luv u broo ♥️ @RekeYsl https://t.co/IQnWqZBw9G',\n",
       " 'RT @OTCReporter: $GPDB @GPDB Partners with https://t.co/ja2D6Cjz2m Bringing Clean, Non-GMO Foods to America #PennyStock https://t.co/LkoqFV…',\n",
       " '$BMY Bristol-Myers Squibb Company (BMY) Falls Further As It&amp;#39;s Water-Logged And ... .More at https://t.co/vNZ6KzThNj',\n",
       " 'Scan results - Hammer Candlestick today: $CVA $AVB $ANTM $GOOGL $GOOG $SSW $STL $MNST $BMY $MKSI ... https://t.co/jnoeZWxwI4',\n",
       " 'RT @Asks4You: Work From Home - Fifth Harmony feat. Ty Dolla $ign\\nRT - Já ouvi\\nFav - Nunca ouvi',\n",
       " 'RT @OTCReporter: $GPDB @GPDB 800,000 thousand potential shoppers potentially $3 billion dollars in annual spending @steveiohc https://t.co/…',\n",
       " '$PDS received a new alert. Find out why at https://t.co/nZwqReM0tj #stocks #daytrading #trading #mkt  #NYSE #NASDAQ #markets 811',\n",
       " 'CONSOL Energy Inc. $CNX Sees Large Volume Increase on Better-Than-Expected Earnings https://t.co/gDJ7Z8M4La',\n",
       " 'Dana Holding downgraded by Zacks Investment Research to sell. https://t.co/UZTPNlcoXY $DAN #DAN',\n",
       " \"Let's see how long it take Apple and Tim to make a statement about a gun fight on the Apple campus. $aapl https://t.co/ydnfRkaEtQ\",\n",
       " 'RT @SuicideChrist: collabing on beats with @GetterOfficial for the $uicide x Getter tape\\n\\nso far, its ground breaking.',\n",
       " \"All the panic surrounding #Apple's declining iPhone sales is way overblown. Read more: https://t.co/A5FYNkbYYT $AAPL\",\n",
       " '#JPMorganChase JP Morgan Chase Closes 0.28% Up on the Day for April 27. Read more: https://t.co/d9NvC8WBvW $JPM',\n",
       " \"All the panic surrounding #Apple's declining iPhone sales is way overblown. Read more: https://t.co/RbbNoym5mU $AAPL\",\n",
       " 'BRIEF-#EyegatePharma appoints Ryan R. Brenneman as Chief Financial Officer. Read more: https://t.co/4u0TE90GT4 $EYEG',\n",
       " 'RT @Asks4You: Work From Home - Fifth Harmony feat. Ty Dolla $ign\\nRT - Já ouvi\\nFav - Nunca ouvi',\n",
       " \"RT @xzxtrader: @maddstacker We're in at bottom on $AWGI - watch this thing explode soon. :-D\",\n",
       " \"@jimcramer I know you like $bwld CEO but it's a terrible restaurant compared to peers. Poor service. Low quality food. Going somewhere else!\",\n",
       " 'RT @iansherr: $FB CFO — VR will not have a material impact on revenue in 2016.',\n",
       " '$BWLD is dependent on sports. Sally on MM talked about March Madness effect on eps. Next,  soccer for the QSR. Not for me.',\n",
       " 'Anyone going to $csu.to agm tomorrow too?',\n",
       " '$PATK:US Patrick Industries, Inc. (PATK) to Release Earnings on Thursday #PATRICK INDUSTRIES INC  https://t.co/DnXKl4dde3 #NASDAQ',\n",
       " '#np\\n$uicideboy$ – Die From $uicide (stereoRYZE prod.)\\nдень и ночь играет в голове\\nСУИСАЙД https://t.co/jJmviicfoe',\n",
       " '$SKYW:US SkyWest, Inc. (SKYW) Scheduled to Post Earnings on Thursday #SKYWEST INC  https://t.co/vZFAsiD2Co #NASDAQ',\n",
       " \"RT @StockTwits: This is the most important chart you'll see today: https://t.co/YyZ5NkMNuC\\n\\n$AAPL $SPY $VIX $DJIA https://t.co/nnwrF1ubUC\",\n",
       " '$SRI:ASX ! 08:23 AM Quarterly Activities Report https://t.co/yHKymUUrZZ',\n",
       " '$AMZN Pandora Media Inc: The Odds Are Stacked Against P Stock https://t.co/9Ep55T0dKk',\n",
       " \"$YELP may be in play tomorrow if it can confirm today's candle higher. Looks like a saucer type cup &amp; handle. https://t.co/AQy5WMNUCK\",\n",
       " 'Dis fa my Real Brodis.. Move! #AirControl #OTW $LBE #Varvatos https://t.co/l3uUHpxkAM',\n",
       " \"Otto Energy's Alaskan Potential Upgraded - https://t.co/fh5L0u8EiL $OEL\",\n",
       " '@bostonbiomed $VRX DIAL TONE',\n",
       " 'RT @Prambors: Bubling up song kedua! From @FifthHarmony ft TY Dolla $ign - Work From Home on @Prambors #Trending20 Enjoy! https://t.co/Y9NQ…',\n",
       " \"RT @DonWulfy718: Let's COMPUTE:DJT Funds Campaign. Crooked HillryTakesBig $Every Day.ClintonFoundtionhas over $300 Mill. Own $ Spent?No Way…\",\n",
       " 'Very long $CWEI paired against a modest $CRC short https://t.co/9vfOhtlCVJ',\n",
       " 'Trexquant Investment LP Cuts Stake in Thor Industries, Inc. $THO https://t.co/lbhjgmrp1g',\n",
       " 'Leidos Holdings, Inc. $LDOS Stake Raised by Trexquant Investment LP https://t.co/iVkc83v4AN',\n",
       " '$SGMS:US Scientific Games Corp (SGMS) Trading 2.8% Higher #SCIENTIFIC GAMES CORP  https://t.co/njaK4pBIzI #NASDAQ',\n",
       " '#Nike Another Launch Colorway of the Air Presto Ultra Flyknit. Read Blog: https://t.co/GerhweWi0M $NKE',\n",
       " 'https://t.co/GuLQB6Vm4B Looking for a millionaire mentor to teach you how to TRADE STOCKS? This guy is the best!! $UEC $RCON $CBLI $ESI',\n",
       " '$CATY:US Cathay General Bancorp (CATY) Price Target Raised to $33.00 #CATHAY GENERAL BANCORP  https://t.co/dTj5pdmqzv #NASDAQ',\n",
       " \"$GC_F More run away? 19% chance of a rate increase at the Fed's June policy meeting, It was 21% right before the Fed's rate statement.\",\n",
       " 'RT @JackDamn: Micro-caps Take the Lead https://t.co/RIq0LZ065s by Arthur Hill. $SPY $IWC https://t.co/bKuaR2shss',\n",
       " '#Nike Air Penny 2 \"Urban Lilac\" Launches in Earnest. Read Blog: https://t.co/faurJT1bke $NKE',\n",
       " \"RT @AntoineGara: Joe Papa's new employment agreement: If Valeant hits $270 a share, he makes half a $bil https://t.co/Vci277BjhP\",\n",
       " 'Crypto-currency losers https://t.co/s0Ob1REGYp\\n$STS $REP $FTC $MZC $AUR https://t.co/XeSHX8BmsY',\n",
       " 'LOVE hearing @jimcramer recommend $BSX on lightening round today. $BSX is finally back in the growth spotlight #killerearnings #backabove$20',\n",
       " '$PBG:ASX ! 08:48 AM Acquisition Proposal from Hanesbrands https://t.co/xKWL383IiI',\n",
       " 'GOT CAɃ???\\nhttps://t.co/fh1kmSdQID #Agriculture #Bitcoin #Blockchain #Cryptocurrency #Fintech #Produce $CAB https://t.co/4nahQ8PoPN',\n",
       " 'RT @CNNMoney: The iPhone 6S is the first iPhone ever to sell fewer models than its predecessor https://t.co/ZVeQ9a4Yrh $AAPL https://t.co/2…',\n",
       " 'RT @SleemStockPicks: $AEZS Aeterna Zentaris Acquires Exclusive U.S. Promotional Rights for APIFINY® Prostate Cancer Blood Test',\n",
       " 'outlook for the coming 2-3 weeks... #bitcoin $BTC $XBTEUR @krakenfx https://t.co/GAMYiA4l5z',\n",
       " 'RT @nasir_otf: $auce Em Up Like Melo 💦🤘🏽🙏🏾 https://t.co/wPiG75rIwS',\n",
       " 'RT @FHCharts: IFPI Slovakia Singles Chart:\\n#6 Work From Home ft. Ty Dolla $ign - Fifth Harmony (+3) *new peak* https://t.co/BwoZ96IKSZ',\n",
       " \"$DHR Today's sharpest call action on the board. Call steam follows monster put seller last month .. https://t.co/G8SBTTLmma\",\n",
       " 'Wondering about risks of $CRUS? The 63-day volatility is 22.22% https://t.co/2x4jurxurK',\n",
       " '@jsherkow That is right.  And a precipitous drop for $EDIT?  Do you think the outcome will be binary or could there be a \"split\"?',\n",
       " 'RT @FHCharts: IFPI Slovakia Radio Chart:\\n#50 Work From Home ft. Ty Dolla $ign - Fifth Harmony (+11) *new peak* https://t.co/YzvSSSzex0',\n",
       " 'RT @FHCharts: IFPI Slovakia Radio Chart:\\n#50 Work From Home ft. Ty Dolla $ign - Fifth Harmony (+11) *new peak* https://t.co/YzvSSSzex0',\n",
       " 'Las Vegas Gets a New Bitcoin ATM, Allows Only To Buy Bitcoin https://t.co/blOdTXO4RA #Bitcoin $BTC',\n",
       " '1Q16 Results: #Telefonica Brasil S.A. Read more: https://t.co/9e3DfJZM8a $TEF',\n",
       " 'RT @richchigga: NEW VIDEO UP!!! Rich Chigga - \"Dat $tick\" https://t.co/9T3ELQ2H1f https://t.co/DzqEpmqacz',\n",
       " 'RT @FHCharts: IFPI Slovakia Radio Chart:\\n#50 Work From Home ft. Ty Dolla $ign - Fifth Harmony (+11) *new peak* https://t.co/YzvSSSzex0',\n",
       " 'RT @WSJ: Services business emerges as key to Apple’s core https://t.co/NQPcUnqZxH $AAPL',\n",
       " 'RT @OTCReporter: $GPDB @GPDB Partners with https://t.co/ja2D6Cjz2m Bringing Clean, Non-GMO Foods to America #PennyStock https://t.co/LkoqFV…',\n",
       " 'RT @Bigbooshoo: @EmpireFOX @FOXTV https://t.co/uBadw7XoIb   stock symbol $OWOO',\n",
       " \"#PandoraMedia andora Founder Tim Westergren Is Now An 'Underestimated' CEO, Albert Fried Says. Read more: https://t.co/1Dvxa9Tbeb $P\",\n",
       " '$RHI is one of biggest losers #stocks today. read more:  https://t.co/u6QyJxpMV8',\n",
       " 'RT @CNNMoney: The iPhone 6S is the first iPhone ever to sell fewer models than its predecessor https://t.co/ZVeQ9a4Yrh $AAPL https://t.co/2…',\n",
       " 'ForbesTech: RT Kchaykowski: Facebook shares spike on first-quarter revenue, earnings that beat estimates $FB https://t.co/eQHLFljs34',\n",
       " 'RT @TomMensa: s/o $ix co. they one of the realist out here in Dallas.',\n",
       " 'RT @ReformedBroker: Instagram is a monster. Purchased for $1 billion in 2012, will do over $1.5 billion in revs this year. \\n\\n$FB',\n",
       " \"RT @GeoInvesting: We were on the $NHTC call today. The company didn't take our questions.\",\n",
       " 'RT @NoDramaFacts: Biotechs past few years - \"shoot now &amp; ask questions later\".  Nothing in the article is new.  Sellside and auditors are n…',\n",
       " '(3/3)\\n\\n$GOOG $GOGL Chart Storm\\n\\n3. Cash from Operations (TTM)\\n\\nhttps://t.co/3UWozKezgm https://t.co/ywUC1zUC92',\n",
       " 'One of countless misrepresentations of $HLF earnings potential every day. 6 figures? Buy your parent a jeep? @FTC https://t.co/9lDhkt4YtA',\n",
       " 'If you’re in Omaha Fri morning for the $BRK meeting, I’ll be getting coffee in the Old Market area around 10:00 AM. Happy to meet anyone.',\n",
       " 'Diamond Hill Investment Group, Inc. $DHIL Posts  Earnings Results https://t.co/RZf5sxeumy',\n",
       " '$IMC:ASX ! 09:34 AM US Distribution Reach Expanded through McKesson https://t.co/HxnB3OUEJP',\n",
       " 'Puesta en marcha de proyectos energéticos “prende” flujo de IEnova en 1T16 https://t.co/lGkWRdWvyN $IENOVA',\n",
       " '$GLF:ASX ! 09:36 AM Quarterly Cashflow Report https://t.co/ZlS46WIwak',\n",
       " '#Zulily Enjoy Outdoor Fun While Protecting Children in the Sun - 6 Sunscreen Basics. Read Blog: https://t.co/mKv1bHCUxY $ZU',\n",
       " 'REFILE-BRIEF-#Hanesbrands to buy Pacific Brands Ltd. Read more: https://t.co/Ki98GXEi69 $HBI',\n",
       " 'https://t.co/YX4GVlWXq6 Biggest PRICK award Henrik @WallStForensics $PLUG',\n",
       " '$CBK long setup https://t.co/rUXL2pVkxM',\n",
       " '$MOS Symm. Triangle Pattern https://t.co/Tv4oC4VjBR',\n",
       " 'RT @GBMhomebroker: $GCARSO presenta cifras del #1T16 ¡Conócelas!  https://t.co/Rx3zPcuaD9 #TRMX #CLubdetraders #BolsaMX https://t.co/9OHqBG…',\n",
       " 'Ty Dolla $ign //  Blasé ft. Future &amp; Rae Sremmurd (Wheathin Remix)',\n",
       " '#China\\n #stocks $HNP Huaneng Power Daily:-0.87% Weekly:-9.51% YTD:-13.15% Trend:20 / 100  https://t.co/vS9zeJBjgn',\n",
       " \"RT @johnarwood: Bank of America CEO at shareholders meeting: 'HB2 should be repealed' https://t.co/YGCF2JPAQg #charobs #ncpol $BAC https://…\",\n",
       " 'RT @ValaAfshar: Apple has $233 billion in cash. It could buy all\\n\\n—@NFL teams\\n—@NBA teams\\n—@MLB teams\\n—@NHL teams\\n\\n...and still have $80 bi…',\n",
       " '#China\\n #stocks $ZNH China Southern Daily:1.13% Weekly:-4.33% YTD:-17.82% Trend:43 / 100  https://t.co/rvBcBFZNXz',\n",
       " 'RT @chengevelyn: $FB only FANG not in correction territory. https://t.co/hYTPbiYEQ8 https://t.co/qYprxpISc0',\n",
       " \"$SHEN: Wall Street analysts bullish on SHEN's earnings growth: https://t.co/GnHZq3H0cd\",\n",
       " '$RTN received a new alert. Find out why at https://t.co/nZwqReM0tj #stocks #daytrading #trading #mkt  #NYSE #NASDAQ #markets 861',\n",
       " \"RT @businessinsider: Strong rumors about the iPhone 7 'Pro' just leaked $AAPL https://t.co/2dVXIuCBM6 https://t.co/qN3dUW61fj\",\n",
       " '#China\\n #stocks $CYOU https://t.co/bgo827thDY Limited Daily:-1.11% Weekly:6.24% YTD:-21.11% Trend:100 / https://t.co/kDSHabo4WN',\n",
       " 'Eaton Vance Management Boosts Position in Lennar Co. $LEN https://t.co/HR4vSzavpL',\n",
       " \"5 Large-Cap Stocks Ripe for Activist Takeovers https://t.co/EmJLW6o8MI ... so bad it's great via @ThStckMktBlprnt $HPQ $UAL $DAL $WDC $VLO\",\n",
       " 'RT @Loveforobz: $HE COMING !!!! @Rihanna. https://t.co/iXWZAgV7ua',\n",
       " '$GAPB - DIVIDENDO EN EFECTIVO https://t.co/KCpM22HsuP',\n",
       " \"RT @Emanoel1953: Hoje, infelizmente, o 'glorioso' $TF é composto de gente como Celso de Mello, um tucano descarado. #AcordaSTF. https://t.c…\",\n",
       " '$Pistol Pete$: $ALIM Stonegate Capital Partners Initiates Coverage on Alimera Sciences http:// https://t.co/oEc6h6K3JK',\n",
       " \"RT @traderstewie: Chart request for @Crypto___  . $HK . I don't trade penny stocks but this one technically looks very good https://t.co/6x…\",\n",
       " 'Bearish Harami https://t.co/21LMGlK7rK $MGLN $BOH $CNC $FFG $HLF $SSD $FNGN $HMN $ZLTQ $LZB $AIMT $SPXX $WSR $MORE $SALM $PSTB $GIM',\n",
       " 'Ensco Plc $ESV Issues Quarterly  Earnings Results https://t.co/3uXCkrOr5A',\n",
       " 'RT @Stockology101: #Stock #News Silicon Laboratories Positions Itself for Internet-of-Things Growth: Silico... https://t.co/4wn4tSOoNd $MU…',\n",
       " 'Papa is NOT making $67 million this year with $VRX but its false salary is $1.5 million+ bonus  with $8 million for  forgoing PRGO options',\n",
       " 'RT @ValaAfshar: Apple has $233 billion in cash. It could buy:\\n\\nUber\\nTesla \\nTwitter \\nAirbnb\\nNetflix\\nYahoo\\n\\n...and still have $18 billion lef…',\n",
       " 'RT @ValaAfshar: Apple has $233 billion in cash. It could buy all\\n\\n—@NFL teams\\n—@NBA teams\\n—@MLB teams\\n—@NHL teams\\n\\n...and still have $80 bi…',\n",
       " '$HJOE https://t.co/Z0ltIvHliG @tlpeake @TheHangoverShot @cstauss7 @Coujoe1962 @Hill10Larry @Goodspeed3465 @whurkforce @flong1992 @InfieldJen',\n",
       " 'RT @ChronoKings: The Huntercore update to #huntercoin is almost complete! #blockchain pruning will allow slower rigs to play. Message us to…',\n",
       " 'RT @Expensive_Teh: $umma looks #freethatnipple https://t.co/B6eOb9u6Ey',\n",
       " 'RT @ValaAfshar: 12 years ago today, some guy named Mark Zuckerberg spoke to @CNBC about his new company $FB https://t.co/R0Eer8VHPv',\n",
       " 'NEW 52wk LOWS\\n\\n$UVXY = 14.01\\nPRIOR: https://t.co/gDvOwBdMDp\\n&amp; also in March: Part 2 https://t.co/6xTTmHw1o4\\nPart 3: https://t.co/Vz0xX5klQN',\n",
       " 'AUDNZD long idea $AUDNZD https://t.co/XKR4oPxlV8',\n",
       " 'MACD Bullish https://t.co/amRE3s12VL $MAR $SSNC $JWN $UNFI $FAF $EVN $CGI $CUBA $CRCM',\n",
       " '$SING sees huge potential for DFS in foreign markets, which have even more fans than the U.S.',\n",
       " 'RT @shellz360: #GitbukkPromo @NoLimitEast $HipHop Flow Infinite @shellz360 - @zovakcainFKFB @DjKenniStarr https://t.co/XjeTxlD8Lm https://t…',\n",
       " 'DIRTY NASTY $UICIDE',\n",
       " \"Don't let your day job ruin your life. Find out how to Trade stocks like a pro here https://t.co/X9VRWTrYla $CBNJ $MDWD $FLO\",\n",
       " 'Kraton Performance Polymers Inc $KRA Releases  Earnings Results, Beats Estimates By $0.25 EPS https://t.co/RzJFcL1BI9',\n",
       " 'RT @OTCReporter: #BreakingNews: $GPDB MoneyTV with Donald Baillargeon, 11/20 #theroad https://t.co/PEz2AUTy9d',\n",
       " '$SVTE  Monthly Chart\\n\\nhttps://t.co/jIBGYDISP5{796ec0ca-e5e7-4dcf-95  $SVTE https://t.co/H56wIeTbJt',\n",
       " 'Northrop Grumman Co. $NOC Price Target Raised to $235.00 https://t.co/zkhCoFNnQu',\n",
       " 'Suncor Energy Inc. $SU Plans C$0.29 Quarterly Dividend https://t.co/NAOG1NW4hq',\n",
       " 'Gains Over 2500% In one Trade.. Subscribe Here! https://t.co/AgMIOXifDa .. $WYNMF $WYNMY $WYNYF',\n",
       " '$O Q1 2016 Earnings Call Audio is now available. https://t.co/Max1SGPIcI',\n",
       " '$POZ:ASX ! 10:42 AM Quarterly Activities Report https://t.co/INsSDcjU4L',\n",
       " 'Work from Home (feat. Ty Dolla $ign) by Fifth Harmony — https://t.co/oLWs8Hi1fT',\n",
       " '@Torna88 @NapoliJuan @nicoscioli $COME me recuerda a los bingos del conurbano por la forma en que despluma a mucha gente. No a todos. Obvio',\n",
       " 'RT @TV_TradingIdeas: Still strong bearish  $USDCAD https://t.co/tNILxQsfPz',\n",
       " 'RT @StockBoardAsset: Oil Note-&gt; $DWTI $UWTI $USO https://t.co/DQFcgEOnSE',\n",
       " 'Gain from movement in these buzzing assets #fintech $AAPL $Brexit $FB https://t.co/ureKUoXLZn https://t.co/LcH8i4ulb7',\n",
       " 'Zacks Investment Research Downgrades EnerNOC, Inc. $ENOC to Sell https://t.co/VMzP5cvsqM',\n",
       " '$MDSO: Analyst action by Citigroup on Medidata Solutions: https://t.co/HhanNhKe4W https://t.co/izPZBDfjoO',\n",
       " '#summerthinkin In This Thang by Blaq Tuxedo Feat. Ty Dolla $Ign &amp; IAMSU!. https://t.co/xqldflXbrD',\n",
       " 'RT @Hedgeye: Cartoon of the Day: Choppy Waters https://t.co/1IM4fbjAuU cc @KeithMcCullough @HedgeyeDDale $USD #Fx #Fed #Yellen https://t.co…',\n",
       " 'Simultaneous $80k bids placed all over $PSF. Broker activity to resume? https://t.co/rHW12UEhFD',\n",
       " '@megynkelly  Its simple. With Fannie Mae gone. No 30 yr mort..no middle class..no housing market..no economic growth..no US economy. $fnma',\n",
       " '$VRTX received a new alert. Find out why at https://t.co/nZwqReM0tj #stocks #daytrading #trading #mkt  #NYSE #NASDAQ #markets 894',\n",
       " 'Veja como está o futuro do #SP500 $SPX agora https://t.co/MV27m7Pkgk https://t.co/15BgRtJK1Q',\n",
       " \"RT @petenajarian: rt @HalftimeReport\\nWhat would you ask @jonnajarian?  He'll be LIVE on $FB tomorrow 1:15pm https://t.co/TfI75NeJUI https:/…\",\n",
       " '@m3ntorHC speaks volume when stock goes up on VOLUME/selling the last couple of days has been on lowest volume/no comparison $IOT off again',\n",
       " '#Biotech #stocks $BIIB Biogen Idec Daily:-0.58% Weekly:5.33% YTD:-8.58% Trend:68 / 100  https://t.co/jovWMARvwP',\n",
       " 'New Chart Update: $EURUSD: New Chart: Actionable Trade Levels To Look For: 1.1284/1.1262/1.1231 (not trade signals). https://t.co/XQ5SMofLUz',\n",
       " 'Our Pick On $APYP Saw Some Solid Growth And Heavy Trading Today! Special Update: https://t.co/ZLXDoH4loV $APPY $RESI $ACXM',\n",
       " \"RT @mark_siberdog57: Of course they need more $billion's in #offshore accts. Yet get one winner in the $SPY #market &amp; #tax the #grinder😡 ht…\",\n",
       " \"This guy asked me who's ty Dolla $ign are you joking fam -.-\",\n",
       " 'All Gold (Robocop) (Prod by $kinny &amp; JMG) by $kinny #np on #SoundCloud\\nhttps://t.co/eMXSuLT3iQ',\n",
       " 'RT @ConceptGrp: Amazon has to pay for those apps your kids bought https://t.co/GW98Lr8Jbe $AMZN https://t.co/UbIO5IAMZJ',\n",
       " 'RT @coastw: Ginni Rometty opens @IBM annual shareholder meeting in Savannah #ibm $ibm https://t.co/Xi71IjmP94',\n",
       " 'Our Penny Stock Picks Have Seen Massive Growth This Year! Update On Our Latest Pick: https://t.co/8pIEYfR6ug $SHEN $TYL $SWIR',\n",
       " 'RT @BLAKEFADES: DIRTY $ODA BUT I BEEN CLEAN.',\n",
       " '$BTCUSD chart https://t.co/Zrjd34ZGg6 via https://t.co/oaDj6tf7cN $BTC',\n",
       " '$Pre Black Friday Fire, 7\" Display, Wi-Fi, 8 GB - Includes Special Offers, Tangerine https://t.co/5fSIRgUKgA',\n",
       " 'Dynavax Technologies downgraded by RBC Capital to sector perform. https://t.co/MsSbttAX1v $DVAX #DVAX',\n",
       " \"RT @slim503: @OfficialAnaLou Dude! That's a hit! Hell Yeah!  $hort Dog sound smooth AF too!\",\n",
       " 'Ty Dolla $ign - Westside',\n",
       " 'Sitting here so angry at myself for owning $TWTR.  I need to dump some to make myself feel better. Stock market wins again.',\n",
       " 'Our Pick On $APYP Saw Some Solid Growth And Heavy Trading Today! Special Update: https://t.co/ZLXDoH4loV $SFNC $HAWK $RGR',\n",
       " 'Gostei de um vídeo @YouTube https://t.co/3kscEV6Kox FROM HOME - Fifth Harmony ft Ty Dolla $ign | @MattSteffanina Choreography',\n",
       " '@TheCarrier111 I completely misunderstood.  Reversing to the upside. When oil goes up so do some shippers i.e. $DRYS $EGLE',\n",
       " 'RT @SwingWarrior: Free Day Trading Chatroom! https://t.co/5yHGIbgzEX | $CSIQ $SKYS $EW $INTC $UVXY $SRNE $LABD $SINA $RKUS $TSLA $ICPT http…',\n",
       " 'Our Penny Stock Picks Have Seen Massive Growth This Year! Update On Our Latest Pick: https://t.co/8pIEYfR6ug $GNTX $DYAX $ENVI',\n",
       " 'RT @marketreturn: $ABCE - Solid Play with an excellent chart   $ABCE https://t.co/xdLu4ZOg15',\n",
       " 'RT @go2sleepjj: Wow $AAPL  Down $46B in Market Cap?! Dang, get your shit together!!!😳😳',\n",
       " '@rubensca1 @izquierdazurda ACERTADO, LO COMPARTO NO ES POSIBLE Q CON ORO,DIAMANTES,COLTAN,PETROLEO ETC TENGAMOS UNA MONEDA Q LA JODE $TODAY',\n",
       " '$EXU:ASX ! 11:27 AM Quarterly Activities Report https://t.co/7ub0iXCUkk',\n",
       " 'RT @EdgarxMendoza: $oho 🌐 https://t.co/LdG71W0oBE',\n",
       " '$SUNEQ Daily chart. $SUNE https://t.co/Q3GTc6emCo',\n",
       " 'Winthrop Realty Trust Sells Its Interest in the Sullivan Center Venture. $FUR\\n https://t.co/q1ZLmWv9hF',\n",
       " 'RT @aznboi27: Overall, I’m short term bullish but long term bearish.. this Central Bank ran market ain’t going to end well in the end $SPY…',\n",
       " 'RT @ChartGuys: $NATGAS Technical Analysis Video 4/27/2016 https://t.co/u7AXXx2qtn',\n",
       " 'Principal Financial Group Inc. Sells 8,546 Shares of Spectra Energy Corp. $SE https://t.co/mjMyKK6DvB',\n",
       " '.048c coming down $IOT - to infinity &amp; beyond hehehehe - edit gooooone',\n",
       " \"Accumulated $LABD today, a few more in early am (on 'false dip'); Go $IBB, $CELG $GILD $AMGN (the only decency left in $IBB) :B Nikkei GREEN\",\n",
       " '$FB People spend more time with Facebook friends than with actual friends https://t.co/952IwHbUe8',\n",
       " 'Infinitygold: $NACG - Huge merger news!!!: Infinitygold https://t.co/PKHlQhOgPF',\n",
       " '4/27 $VAPE https://t.co/frMY6TOHae',\n",
       " 'RT @DruggieVibes: Love $ex Dreams https://t.co/iH6GgrsSVe',\n",
       " 'Extra Space Storage upgraded by Zacks Investment Research to buy. $98.00 PT. https://t.co/BuAcSI4g0Y $EXR #EXR',\n",
       " '$TER Q1 2016 Earnings Release is now available. https://t.co/1tSEDGZUjV',\n",
       " \"Have you heard ‘SevenG'zz - Owe $hit (ChoppednSlopped) =LFS=’ by @BenitezLFS on #SoundCloud? #np https://t.co/ynG4wvVyei\",\n",
       " '$GBPUSD #GBPUSD Change:-0.34% https://t.co/SyI1SOEwj0 https://t.co/BYVcs5d4GH',\n",
       " '$PSF https://t.co/PgRqa8muzh',\n",
       " '$nake a$$ https://t.co/bfAcm0TtPP',\n",
       " '$BCR Q1 2016 Earnings Call Audio is now available. https://t.co/tmvtrzJuzr',\n",
       " 'https://t.co/Bez8Sjatdi つなげて倒す爽快アクションRPG「スマッシュドラグーン」の正式サービスが開始。記念にガチャが回せる「オーブ」150個を配布 https://t.co/E3a1U3xCRC Stock Alert $CMGO',\n",
       " '$MEET Nice, needed this love 2day, not only 1 in our stable doing great but certainly a mention-able. Vast-Majority of our trades work!',\n",
       " 'Unicorn Bay rating for $ORLY is 2.48 out of 5. https://t.co/fvB0rCdwCr',\n",
       " 'This is one of the most relevant articles about $FB now. Facebook results: Investors like living in Z...    https://t.co/LuB2AtvSjZ via @WSJ',\n",
       " 'I just used Shazam to discover Work From Home by Fifth Harmony Feat. Ty Dolla $Ign. On @1061KISSFMDFW 😛 https://t.co/9PvF52mClM',\n",
       " 'RT @wealthsec: $NIKL Sumitomo Metal to Start Scandium Output at Philippine Plant in 2018 https://t.co/fI5srESxLD',\n",
       " \"RT @SpursNBeavs: Let's see if $FB hits $120 tomorrow before $GOOGL hits $730.  Taking bets now, losers can pay me...winners can collect fro…\",\n",
       " '@adambain $twtr earnings are terrible for a company valued at 340B luckily they are pretty good for a company valued at 10.5B with 3.6B cash',\n",
       " 'RT @XSalaimartin: 🌎 Population:\\n\\n@facebook $FB\\nChina🇨🇳 \\nIndia🇮🇳\\n@whatsapp\\n@wechatapp\\n@tumblr\\n@instagram\\nUS🇺🇸\\n@twitter\\nIndonesia🇮🇩\\n@snapchat…',\n",
       " 'BoJ, Do Something! Japan Slips Into Deflation, Industrial Production Growth Slows https://t.co/iFFoEaTW70 via @@barronsasia $JPY $NIK',\n",
       " 'The Bennie Mac N Nem Show This $hit Funny Too Coming Late Spring Reserve your copy, I got 1 for you.. #IBrangYouTheFunny4ALilMoney',\n",
       " 'Alibaba Group Holding Ltd (NYSE:BABA) Closes -1.22% For the Session https://t.co/kfsB2qN4ja $BABA',\n",
       " 'Listen to $IR $PACE - GRAVY Prod by (JStewOnTheBeat) by @SpaceStopFlexn  https://t.co/FRiSfO68Lr',\n",
       " '$xmmer 16 we Łit !!!',\n",
       " 'Xilinx Beats On Earnings and Revenue $XLNX #stocks https://t.co/fijOmYXQZw https://t.co/R1UC9imsJi',\n",
       " 'https://t.co/uAcamNRUPt alerted another winner. MUST SEE TRACK RECORD &amp; SUBSCRIBE https://t.co/OQCNEb9p9K $AIG $DE $BK $NEM $CVS $FE',\n",
       " 'Insider Selling: Alaska Air Group, Inc. $ALK SVP Sells 8,800 Shares of Stock https://t.co/cX1XBvH9PR',\n",
       " 'Virgin media to invest £3bn in bid to connect 4m more homes to its network - https://t.co/IoQXBJhTh3 - #VMD - $VMD',\n",
       " 'India: #Rediff.com delists its shares on Nasdaq. Read more: https://t.co/HHvqk8yjvl $REDF',\n",
       " \"#Apple Mac sales tumble 12% in second-biggest downturn since '07. Read more: https://t.co/HpWKICqazk $AAPL\",\n",
       " \"#Apple Mac sales tumble 12% in second-biggest downturn since '07. Read more: https://t.co/Hz24TVeV3N $AAPL\",\n",
       " 'RT @adampalomo23: $tay in yo lane',\n",
       " 'Love $ex Dreams',\n",
       " '#ROIC Retail Opportunity Investments Corp. Raises the Bar. Read more: https://t.co/sqSdMtrWKz $ROIC',\n",
       " 'Do you know that #WallStreet price for $EXPE is $131.08 https://t.co/qbYeDuaVtO',\n",
       " '@mariavitoriaj__ own $Z',\n",
       " '@PRNewswire: Brixmor Property Group Reports First Quarter 2016 Results $BRX https://t.co/mKtI85X0ZE',\n",
       " 'CommVault Systems, Inc. $CVLT Position Raised by Mutual of America Capital Management LLC https://t.co/PcRGytjEaH',\n",
       " 'RT @OTCReporter: #BreakingNews: $GPDB MoneyTV with Donald Baillargeon, 11/06 @SumanPa59621357 https://t.co/wdvnFGoM3q',\n",
       " '@CRStoli @JDStun Idk, I say leave the $ sign thing to Too $hort. Maybe R.P. Stoli?',\n",
       " 'Now comes the hard part for $AAPL in China https://t.co/WeB3pWtzk8',\n",
       " 'Cannabis Science does not advocate smoking marijuana.  Get Healthy Not High $CBIS',\n",
       " '$CBIS recently partnered with Purple Haze Properties to launch “Jimi’s Meds” products for online sale. https://t.co/wSdYSgSZR7',\n",
       " '$lewd https://t.co/zlScoyubAu',\n",
       " '$Pre Black Friday Fire, 7\" Display, Wi-Fi, 8 GB - Includes Special Offers, Black https://t.co/0psrv3fEFx',\n",
       " \"@oprah @WeightWatchers hoping skinnier members brought in a fat quarter.  Here's to good #s next week! #weightwatchers $WTW $SPY\",\n",
       " '[2hrwarn] JPY Housing Starts (YoY) - Previous:7.8% Forecast:-0.6% $USDJPY',\n",
       " '@aldogabriel21 $Lv menor do caixeta 🔫',\n",
       " '$hlz courts BernieBro in Oklahoma #NotWithHer #NeverHillary #HillaryClinton #ImWithHer #Clinton2016 https://t.co/zV5LeCuKhy via @youtube']"
      ]
     },
     "execution_count": 74,
     "metadata": {},
     "output_type": "execute_result"
    }
   ],
   "source": [
    "[x['text'] for x in t]"
   ]
  }
 ],
 "metadata": {
  "kernelspec": {
   "display_name": "Python 3",
   "language": "python",
   "name": "python3"
  },
  "language_info": {
   "codemirror_mode": {
    "name": "ipython",
    "version": 3
   },
   "file_extension": ".py",
   "mimetype": "text/x-python",
   "name": "python",
   "nbconvert_exporter": "python",
   "pygments_lexer": "ipython3",
   "version": "3.5.1"
  }
 },
 "nbformat": 4,
 "nbformat_minor": 0
}
