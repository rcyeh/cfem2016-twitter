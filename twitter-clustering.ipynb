{
 "cells": [
  {
   "cell_type": "code",
   "execution_count": 1,
   "metadata": {
    "collapsed": false
   },
   "outputs": [],
   "source": [
    "t = []\n",
    "with open(\"/home/r/rcy-twitter/raw/aws_texts.txt\", \"rb\") as f:\n",
    "    for line in f:\n",
    "        t.append(line)"
   ]
  },
  {
   "cell_type": "code",
   "execution_count": 2,
   "metadata": {
    "collapsed": false
   },
   "outputs": [
    {
     "data": {
      "text/plain": [
       "bytes"
      ]
     },
     "execution_count": 2,
     "metadata": {},
     "output_type": "execute_result"
    }
   ],
   "source": [
    "t[0].__class__"
   ]
  },
  {
   "cell_type": "code",
   "execution_count": 3,
   "metadata": {
    "collapsed": true
   },
   "outputs": [],
   "source": [
    "st = [str(x.decode(\"utf-8\")) for x in t]"
   ]
  },
  {
   "cell_type": "code",
   "execution_count": 4,
   "metadata": {
    "collapsed": false
   },
   "outputs": [
    {
     "data": {
      "text/plain": [
       "str"
      ]
     },
     "execution_count": 4,
     "metadata": {},
     "output_type": "execute_result"
    }
   ],
   "source": [
    "st[0].__class__"
   ]
  },
  {
   "cell_type": "code",
   "execution_count": 5,
   "metadata": {
    "collapsed": false
   },
   "outputs": [
    {
     "data": {
      "text/plain": [
       "['$FROT @ .0003!  $FROT https://t.co/oY8uE2tRYH\\n',\n",
       " 'RT @KarinCAtrades: Commented on Can Cellceutix Emerge From The Shadows Into The Limelight? https://t.co/UStvGor4NR $RDY $XNPT $CTIX\\n',\n",
       " 'RT @i_like_bb_stock: $MRNJ big news out bought some https://t.co/iXoMhrYWPx\\n',\n",
       " 'THANKS FOR THE CHEAPIES!!  $LTNC\\n',\n",
       " \"RT @TakeFlightSales: $CDNL provides third world countries with clean water. Currently 16% of the world's population lack access. #water htt…\\n\",\n",
       " \"RT @TakeFlightSales: $CDNL provides third world countries with clean water. Currently 16% of the world's population lack access. #water htt…\\n\",\n",
       " '$FLXS up almost $2 per today.  Profits over $800 and going up.\\n',\n",
       " 'Enanta Pharmaceuticals hits a 1 quarter high https://t.co/5FX0f3x3dH $ENTA #EnantaPharmaceuticals https://t.co/FItxxPnbnV\\n',\n",
       " 'RT @multi_utilities: #Sempra Energy Given Average Rating of \"Hold\" by Brokerages. Read more: https://t.co/n22q61Hij5 $SRE\\n',\n",
       " \"RT @PopCrave: 'Work From Home' by Fifth Harmony ft. Ty Dolla $ign has received over 5.1 MILLION views in the past 24 hours alone. https://t…\\n\"]"
      ]
     },
     "execution_count": 5,
     "metadata": {},
     "output_type": "execute_result"
    }
   ],
   "source": [
    "st[0:10]"
   ]
  },
  {
   "cell_type": "code",
   "execution_count": 18,
   "metadata": {
    "collapsed": true
   },
   "outputs": [],
   "source": [
    "# look at word frequencies\n",
    "allwords = {}\n",
    "for line in st:\n",
    "    for word in line.split(\" \"):\n",
    "        try:\n",
    "            allwords[word.strip()] += 1\n",
    "        except KeyError:\n",
    "            allwords[word.strip()] = 1"
   ]
  },
  {
   "cell_type": "code",
   "execution_count": 19,
   "metadata": {
    "collapsed": false
   },
   "outputs": [
    {
     "data": {
      "text/plain": [
       "60905"
      ]
     },
     "execution_count": 19,
     "metadata": {},
     "output_type": "execute_result"
    }
   ],
   "source": [
    "len(allwords)"
   ]
  },
  {
   "cell_type": "code",
   "execution_count": 20,
   "metadata": {
    "collapsed": false
   },
   "outputs": [
    {
     "name": "stdout",
     "output_type": "stream",
     "text": [
      "194 $MFST\n",
      "185 $EXAD\n",
      "106 $SUNE\n",
      "262 $ex\n",
      "520 $SPY\n",
      "459 $CSAX\n",
      "282 $UPZS\n",
      "216 $TWTR\n",
      "467 $ign\n",
      "119 $GRCU\n",
      "125 $GOOG\n",
      "113 $BCAP\n",
      "196 $USO\n",
      "108 $ITUS\n",
      "124 $QQQ\n",
      "136 $MSFT\n",
      "138 $TXHD\n",
      "108 $SRPT\n",
      "178 $NFLX\n",
      "480 $EX,\n",
      "111 $TSLA\n",
      "335 $GPDB\n",
      "263 $FB\n",
      "170 $SPX\n",
      "549 $AAPL\n",
      "101 $LTNC\n",
      "274 $ARYC\n",
      "108 $AMZN\n",
      "151 $CBIS\n"
     ]
    }
   ],
   "source": [
    "counts = {}\n",
    "for k, v in allwords.items():\n",
    "    if k.startswith(\"$\") and v > 100:\n",
    "        print(str(v) + \" \" + k)"
   ]
  },
  {
   "cell_type": "code",
   "execution_count": 8,
   "metadata": {
    "collapsed": true
   },
   "outputs": [],
   "source": [
    "frequencies = {}\n",
    "for word, freq in allwords.items():\n",
    "    try:\n",
    "        frequencies[freq] += 1\n",
    "    except KeyError:\n",
    "        frequencies[freq] = 1"
   ]
  },
  {
   "cell_type": "code",
   "execution_count": 9,
   "metadata": {
    "collapsed": false
   },
   "outputs": [
    {
     "data": {
      "text/plain": [
       "{1: 42822,\n",
       " 2: 8557,\n",
       " 3: 3035,\n",
       " 4: 1708,\n",
       " 5: 1100,\n",
       " 6: 755,\n",
       " 7: 552,\n",
       " 8: 425,\n",
       " 9: 301,\n",
       " 10: 261,\n",
       " 11: 215,\n",
       " 12: 209,\n",
       " 13: 194,\n",
       " 14: 151,\n",
       " 15: 123,\n",
       " 16: 141,\n",
       " 17: 92,\n",
       " 18: 114,\n",
       " 19: 85,\n",
       " 20: 83,\n",
       " 21: 80,\n",
       " 22: 63,\n",
       " 23: 68,\n",
       " 24: 50,\n",
       " 25: 65,\n",
       " 26: 52,\n",
       " 27: 47,\n",
       " 28: 38,\n",
       " 29: 60,\n",
       " 30: 28,\n",
       " 31: 37,\n",
       " 32: 52,\n",
       " 33: 41,\n",
       " 34: 33,\n",
       " 35: 28,\n",
       " 36: 31,\n",
       " 37: 29,\n",
       " 38: 28,\n",
       " 39: 22,\n",
       " 40: 29,\n",
       " 41: 29,\n",
       " 42: 14,\n",
       " 43: 13,\n",
       " 44: 16,\n",
       " 45: 24,\n",
       " 46: 17,\n",
       " 47: 12,\n",
       " 48: 15,\n",
       " 49: 21,\n",
       " 50: 12,\n",
       " 51: 17,\n",
       " 52: 16,\n",
       " 53: 10,\n",
       " 54: 17,\n",
       " 55: 18,\n",
       " 56: 19,\n",
       " 57: 13,\n",
       " 58: 10,\n",
       " 59: 21,\n",
       " 60: 6,\n",
       " 61: 8,\n",
       " 62: 10,\n",
       " 63: 12,\n",
       " 64: 13,\n",
       " 65: 8,\n",
       " 66: 7,\n",
       " 67: 11,\n",
       " 68: 8,\n",
       " 69: 10,\n",
       " 70: 6,\n",
       " 71: 4,\n",
       " 72: 10,\n",
       " 73: 9,\n",
       " 74: 3,\n",
       " 75: 6,\n",
       " 76: 7,\n",
       " 77: 5,\n",
       " 78: 11,\n",
       " 79: 9,\n",
       " 80: 4,\n",
       " 81: 9,\n",
       " 82: 9,\n",
       " 83: 3,\n",
       " 84: 5,\n",
       " 85: 7,\n",
       " 86: 7,\n",
       " 87: 9,\n",
       " 88: 2,\n",
       " 89: 2,\n",
       " 91: 7,\n",
       " 92: 7,\n",
       " 93: 2,\n",
       " 94: 5,\n",
       " 95: 2,\n",
       " 96: 1,\n",
       " 97: 3,\n",
       " 98: 6,\n",
       " 99: 10,\n",
       " 100: 5,\n",
       " 101: 1,\n",
       " 102: 2,\n",
       " 103: 1,\n",
       " 104: 5,\n",
       " 106: 2,\n",
       " 107: 3,\n",
       " 108: 6,\n",
       " 109: 6,\n",
       " 110: 2,\n",
       " 111: 4,\n",
       " 112: 3,\n",
       " 113: 6,\n",
       " 114: 4,\n",
       " 116: 1,\n",
       " 117: 3,\n",
       " 118: 2,\n",
       " 119: 3,\n",
       " 120: 2,\n",
       " 121: 1,\n",
       " 122: 1,\n",
       " 123: 6,\n",
       " 124: 3,\n",
       " 125: 1,\n",
       " 126: 3,\n",
       " 127: 1,\n",
       " 128: 1,\n",
       " 129: 1,\n",
       " 130: 4,\n",
       " 131: 6,\n",
       " 132: 1,\n",
       " 133: 1,\n",
       " 134: 1,\n",
       " 135: 2,\n",
       " 136: 2,\n",
       " 137: 4,\n",
       " 138: 2,\n",
       " 139: 2,\n",
       " 140: 4,\n",
       " 141: 3,\n",
       " 142: 3,\n",
       " 143: 1,\n",
       " 144: 2,\n",
       " 146: 1,\n",
       " 147: 2,\n",
       " 148: 1,\n",
       " 150: 2,\n",
       " 151: 1,\n",
       " 153: 1,\n",
       " 155: 1,\n",
       " 157: 3,\n",
       " 158: 1,\n",
       " 159: 4,\n",
       " 160: 1,\n",
       " 161: 1,\n",
       " 162: 1,\n",
       " 163: 3,\n",
       " 164: 3,\n",
       " 165: 1,\n",
       " 166: 1,\n",
       " 167: 1,\n",
       " 171: 2,\n",
       " 172: 1,\n",
       " 173: 3,\n",
       " 175: 1,\n",
       " 176: 1,\n",
       " 177: 2,\n",
       " 180: 2,\n",
       " 181: 3,\n",
       " 182: 2,\n",
       " 183: 1,\n",
       " 184: 2,\n",
       " 185: 1,\n",
       " 186: 2,\n",
       " 187: 3,\n",
       " 188: 1,\n",
       " 189: 3,\n",
       " 193: 1,\n",
       " 195: 1,\n",
       " 196: 1,\n",
       " 197: 1,\n",
       " 198: 2,\n",
       " 201: 2,\n",
       " 203: 1,\n",
       " 204: 1,\n",
       " 205: 1,\n",
       " 208: 1,\n",
       " 209: 1,\n",
       " 213: 1,\n",
       " 215: 1,\n",
       " 218: 1,\n",
       " 221: 1,\n",
       " 226: 1,\n",
       " 227: 1,\n",
       " 228: 1,\n",
       " 231: 1,\n",
       " 232: 1,\n",
       " 233: 2,\n",
       " 234: 1,\n",
       " 235: 2,\n",
       " 236: 1,\n",
       " 239: 2,\n",
       " 240: 1,\n",
       " 243: 1,\n",
       " 245: 1,\n",
       " 246: 1,\n",
       " 250: 1,\n",
       " 251: 1,\n",
       " 252: 1,\n",
       " 254: 1,\n",
       " 255: 1,\n",
       " 257: 1,\n",
       " 258: 1,\n",
       " 260: 1,\n",
       " 261: 1,\n",
       " 265: 1,\n",
       " 274: 1,\n",
       " 275: 1,\n",
       " 282: 1,\n",
       " 288: 1,\n",
       " 290: 1,\n",
       " 291: 1,\n",
       " 294: 1,\n",
       " 295: 1,\n",
       " 297: 1,\n",
       " 303: 1,\n",
       " 316: 1,\n",
       " 317: 1,\n",
       " 333: 1,\n",
       " 335: 1,\n",
       " 339: 1,\n",
       " 342: 1,\n",
       " 345: 1,\n",
       " 347: 1,\n",
       " 348: 1,\n",
       " 352: 1,\n",
       " 358: 1,\n",
       " 360: 1,\n",
       " 365: 1,\n",
       " 378: 1,\n",
       " 381: 1,\n",
       " 382: 1,\n",
       " 393: 1,\n",
       " 396: 1,\n",
       " 410: 1,\n",
       " 411: 1,\n",
       " 422: 1,\n",
       " 423: 1,\n",
       " 429: 2,\n",
       " 433: 1,\n",
       " 439: 1,\n",
       " 464: 1,\n",
       " 479: 2,\n",
       " 480: 4,\n",
       " 481: 1,\n",
       " 484: 1,\n",
       " 489: 1,\n",
       " 494: 1,\n",
       " 495: 1,\n",
       " 501: 2,\n",
       " 518: 1,\n",
       " 519: 1,\n",
       " 546: 1,\n",
       " 549: 1,\n",
       " 564: 1,\n",
       " 591: 1,\n",
       " 614: 1,\n",
       " 649: 1,\n",
       " 700: 1,\n",
       " 739: 1,\n",
       " 926: 1,\n",
       " 927: 1,\n",
       " 1154: 1,\n",
       " 1189: 1,\n",
       " 1231: 1,\n",
       " 1288: 1,\n",
       " 1406: 1,\n",
       " 1441: 1,\n",
       " 1826: 1,\n",
       " 1828: 1,\n",
       " 1922: 1,\n",
       " 2003: 1,\n",
       " 2050: 1,\n",
       " 2145: 1,\n",
       " 2599: 1,\n",
       " 2993: 1,\n",
       " 7283: 1,\n",
       " 7931: 1}"
      ]
     },
     "execution_count": 9,
     "metadata": {},
     "output_type": "execute_result"
    }
   ],
   "source": [
    "frequencies # shows, for each frequency, number of distinct words"
   ]
  },
  {
   "cell_type": "code",
   "execution_count": 23,
   "metadata": {
    "collapsed": true
   },
   "outputs": [],
   "source": [
    "import matplotlib\n",
    "%matplotlib inline\n",
    "import matplotlib.pyplot as pyplot"
   ]
  },
  {
   "cell_type": "code",
   "execution_count": 29,
   "metadata": {
    "collapsed": false
   },
   "outputs": [
    {
     "data": {
      "text/plain": [
       "[<matplotlib.lines.Line2D at 0x980c5c0>]"
      ]
     },
     "execution_count": 29,
     "metadata": {},
     "output_type": "execute_result"
    },
    {
     "data": {
      "image/png": "[encoded data removed]",
      "text/plain": [
       "<matplotlib.figure.Figure at 0x981b7f0>"
      ]
     },
     "metadata": {},
     "output_type": "display_data"
    }
   ],
   "source": [
    "pyplot.loglog([int(k) for k, v in frequencies.items()], [int(v) for k, v in frequencies.items()], \"ro\")"
   ]
  },
  {
   "cell_type": "code",
   "execution_count": 33,
   "metadata": {
    "collapsed": true
   },
   "outputs": [],
   "source": [
    "def words_in_common(str1, str2):\n",
    "    w1 = set(str1.split(\" \"))\n",
    "    w2 = set(str2.split(\" \"))\n",
    "    total_words = len(w1) + len(w2)\n",
    "    unique_words = len(set([w for w in w1] + [w for w in w2]))\n",
    "    common_words = total_words - unique_words\n",
    "    return (2 * common_words / total_words)"
   ]
  },
  {
   "cell_type": "code",
   "execution_count": 62,
   "metadata": {
    "collapsed": true
   },
   "outputs": [],
   "source": [
    "def words_in_common_sets(w1, w2, lenw1, lenw2):\n",
    "    total_words = lenw1 + lenw2\n",
    "    unique_words = len(set([w for w in w1] + [w for w in w2]))\n",
    "    common_words = total_words - unique_words\n",
    "    return (2 * common_words / total_words)"
   ]
  },
  {
   "cell_type": "code",
   "execution_count": 39,
   "metadata": {
    "collapsed": false
   },
   "outputs": [
    {
     "data": {
      "text/plain": [
       "1.0"
      ]
     },
     "execution_count": 39,
     "metadata": {},
     "output_type": "execute_result"
    }
   ],
   "source": [
    "words_in_common(st[4], st[5])"
   ]
  },
  {
   "cell_type": "code",
   "execution_count": 35,
   "metadata": {
    "collapsed": false
   },
   "outputs": [
    {
     "data": {
      "text/plain": [
       "19160"
      ]
     },
     "execution_count": 35,
     "metadata": {},
     "output_type": "execute_result"
    }
   ],
   "source": [
    "len(st)"
   ]
  },
  {
   "cell_type": "code",
   "execution_count": 42,
   "metadata": {
    "collapsed": false
   },
   "outputs": [
    {
     "data": {
      "text/plain": [
       "3.2"
      ]
     },
     "execution_count": 42,
     "metadata": {},
     "output_type": "execute_result"
    }
   ],
   "source": [
    "2e4*2e4*8/1e9 # GB"
   ]
  },
  {
   "cell_type": "code",
   "execution_count": 43,
   "metadata": {
    "collapsed": true
   },
   "outputs": [],
   "source": [
    "import numpy"
   ]
  },
  {
   "cell_type": "code",
   "execution_count": 46,
   "metadata": {
    "collapsed": false
   },
   "outputs": [],
   "source": [
    "dist = numpy.zeros([19160, 19160], dtype=numpy.int8)"
   ]
  },
  {
   "cell_type": "code",
   "execution_count": 47,
   "metadata": {
    "collapsed": false
   },
   "outputs": [
    {
     "data": {
      "text/plain": [
       "367105600"
      ]
     },
     "execution_count": 47,
     "metadata": {},
     "output_type": "execute_result"
    }
   ],
   "source": [
    "dist.size # 367 MB --- manageable\n"
   ]
  },
  {
   "cell_type": "code",
   "execution_count": 57,
   "metadata": {
    "collapsed": true
   },
   "outputs": [],
   "source": [
    "import datetime"
   ]
  },
  {
   "cell_type": "code",
   "execution_count": 58,
   "metadata": {
    "collapsed": false
   },
   "outputs": [
    {
     "data": {
      "text/plain": [
       "datetime.datetime(2016, 4, 28, 12, 15, 44, 368359)"
      ]
     },
     "execution_count": 58,
     "metadata": {},
     "output_type": "execute_result"
    }
   ],
   "source": [
    "datetime.datetime.now()"
   ]
  },
  {
   "cell_type": "code",
   "execution_count": 63,
   "metadata": {
    "collapsed": true
   },
   "outputs": [],
   "source": [
    "sts = [set(x) for x in st]"
   ]
  },
  {
   "cell_type": "code",
   "execution_count": 64,
   "metadata": {
    "collapsed": true
   },
   "outputs": [],
   "source": [
    "stsl = [len(x) for x in sts]"
   ]
  },
  {
   "cell_type": "code",
   "execution_count": 65,
   "metadata": {
    "collapsed": false
   },
   "outputs": [
    {
     "data": {
      "text/plain": [
       "datetime.datetime(2016, 4, 28, 12, 56, 7, 900598)"
      ]
     },
     "execution_count": 65,
     "metadata": {},
     "output_type": "execute_result"
    }
   ],
   "source": [
    "for i in range(9423, len(st)):\n",
    "    w1 = sts[i]\n",
    "    lw1 = stsl[i]\n",
    "    for j in range(i+1, len(st)):\n",
    "        w2 = sts[j]\n",
    "        lw2 = stsl[j]\n",
    "        dist[i, j] = dist[j, i] = words_in_common_sets(w1, w2, lw1, lw2) * 100\n",
    "datetime.datetime.now()"
   ]
  },
  {
   "cell_type": "code",
   "execution_count": 55,
   "metadata": {
    "collapsed": false
   },
   "outputs": [],
   "source": [
    "dist[0, 0] = 0.0857 * 100"
   ]
  },
  {
   "cell_type": "code",
   "execution_count": 56,
   "metadata": {
    "collapsed": false
   },
   "outputs": [
    {
     "data": {
      "text/plain": [
       "8"
      ]
     },
     "execution_count": 56,
     "metadata": {},
     "output_type": "execute_result"
    }
   ],
   "source": [
    "dist[0, 0]"
   ]
  },
  {
   "cell_type": "code",
   "execution_count": null,
   "metadata": {
    "collapsed": true
   },
   "outputs": [],
   "source": [
    "dist[0, 0] = 0"
   ]
  },
  {
   "cell_type": "code",
   "execution_count": 60,
   "metadata": {
    "collapsed": false
   },
   "outputs": [
    {
     "data": {
      "text/plain": [
       "9423"
      ]
     },
     "execution_count": 60,
     "metadata": {},
     "output_type": "execute_result"
    }
   ],
   "source": [
    "i"
   ]
  },
  {
   "cell_type": "code",
   "execution_count": 68,
   "metadata": {
    "collapsed": false
   },
   "outputs": [],
   "source": [
    "distdist = [0 for i in range(101)]"
   ]
  },
  {
   "cell_type": "code",
   "execution_count": 69,
   "metadata": {
    "collapsed": false
   },
   "outputs": [],
   "source": [
    "for i in range(len(st)):\n",
    "    for j in range(i+1, len(st)):\n",
    "        distdist[dist[i, j]] += 1"
   ]
  },
  {
   "cell_type": "code",
   "execution_count": 70,
   "metadata": {
    "collapsed": false
   },
   "outputs": [
    {
     "data": {
      "text/plain": [
       "datetime.datetime(2016, 4, 28, 14, 25, 56, 506373)"
      ]
     },
     "execution_count": 70,
     "metadata": {},
     "output_type": "execute_result"
    }
   ],
   "source": [
    "datetime.datetime.now()"
   ]
  },
  {
   "cell_type": "code",
   "execution_count": 74,
   "metadata": {
    "collapsed": false
   },
   "outputs": [
    {
     "data": {
      "text/plain": [
       "[<matplotlib.lines.Line2D at 0xd281978>]"
      ]
     },
     "execution_count": 74,
     "metadata": {},
     "output_type": "execute_result"
    },
    {
     "data": {
      "image/png": "[encoded data removed]",
      "text/plain": [
       "<matplotlib.figure.Figure at 0xd0c8240>"
      ]
     },
     "metadata": {},
     "output_type": "display_data"
    }
   ],
   "source": [
    "pyplot.semilogy([x for x in range(101)], distdist, 'ro')"
   ]
  },
  {
   "cell_type": "code",
   "execution_count": 85,
   "metadata": {
    "collapsed": false
   },
   "outputs": [
    {
     "name": "stdout",
     "output_type": "stream",
     "text": [
      "47:\tTHANKS FOR THE CHEAPIES!!  $LTNC\n",
      "\t@UNGRADIOSTATION THANKS FOR THE SUPPORT BRA! HIGHLY APPRECIATED  $ALUTE! THRAXXX\n",
      "45:\tEnanta Pharmaceuticals hits a 1 quarter high https://t.co/5FX0f3x3dH $ENTA #EnantaPharmaceuticals https://t.co/FItxxPnbnV\n",
      "\tSunTrust Banks hits a 1 quarter high https://t.co/frUU9WxVSu $STI #SunTrustBanks https://t.co/5krBPXMfrb\n",
      "42:\tRT @multi_utilities: #Sempra Energy Given Average Rating of \"Hold\" by Brokerages. Read more: https://t.co/n22q61Hij5 $SRE\n",
      "\t#ARCResources Ltd Given Consensus Rating of \"Buy\" by Analysts. Read more: https://t.co/WVqlc96jpZ $ARX\n",
      "42:\tRT @PopCrave: 'Work From Home' by Fifth Harmony ft. Ty Dolla $ign has received over 5.1 MILLION views in the past 24 hours alone. https://t…\n",
      "\tRT @Jpnononononono: Work From Home - Fifth Harmony ft. Ty Dolla $ign https://t.co/hoIuxkDvhj\n",
      "42:\tRT @multi_utilities: #Sempra Energy Given Average Rating of \"Hold\" by Brokerages. Read more: https://t.co/n22q61Hij5 $SRE\n",
      "\t#AresManagement LP Receives Average Rating of \"Hold\" from Analysts. Read more: https://t.co/AnPZ6Mywqd $ARES\n",
      "42:\tRT @PopCrave: 'Work From Home' by Fifth Harmony ft. Ty Dolla $ign has received over 5.1 MILLION views in the past 24 hours alone. https://t…\n",
      "\tRT @Jpnononononono: Work From Home - Fifth Harmony ft. Ty Dolla $ign https://t.co/hoIuxkDvhj\n",
      "42:\tRT @PopCrave: 'Work From Home' by Fifth Harmony ft. Ty Dolla $ign has received over 5.1 MILLION views in the past 24 hours alone. https://t…\n",
      "\tRT @Jpnononononono: Work From Home - Fifth Harmony ft. Ty Dolla $ign https://t.co/hoIuxkDvhj\n",
      "44:\tRT @ppprophet: STOCKMARKET TODAY   $SPX $SPY $VIX $TVIX $VXX $AAPL $CA $DAX $NTFX $TWTR $FB $SDOW $SQQQ $MSFT $INTC $SIRI $BAC $GS https://…\n",
      "\tRT @ppprophet: $SPX 2134.72..2116.48...2111.05 HOUSTON WE HAVE A PROBLEM ! #STOCKMARKET $VIX $SPY $DIA $AAPL $C $BAC $FB $VXX $MSFT https:/…\n",
      "42:\tSussex Bancorp $SBBX Shares Gap Up to $12.57 https://t.co/5tySrmphLn\n",
      "\tRepublic Services, Inc. $RSG Shares Gap Up to $45.76 https://t.co/bggEP5AkYf\n",
      "47:\t$FARO:  Faro Technologies Incorporated (NASDAQ:FARO) Short Interest …:  https://t.co/fswJSAjujn\n",
      "\t$CYRX:  Cryoport Incorporated (NASDAQ:CYRX) Short Interest Increased By …:  https://t.co/ziDQLGnhQg\n"
     ]
    }
   ],
   "source": [
    "top = 10\n",
    "for i in range(len(st)):\n",
    "    for j in range(i+1, len(st)):\n",
    "        if 50 < dist[i, j] < 50:\n",
    "            print(str(dist[i,j]) + \":\\t\" + st[i].rstrip() + \"\\n\\t\" + st[j].rstrip())\n",
    "            top -= 1\n",
    "            i += 1\n",
    "            if top <= 0:\n",
    "                break;\n",
    "    if top <= 0:\n",
    "        break;"
   ]
  },
  {
   "cell_type": "code",
   "execution_count": 88,
   "metadata": {
    "collapsed": true
   },
   "outputs": [],
   "source": [
    "import scipy.cluster.hierarchy"
   ]
  },
  {
   "cell_type": "code",
   "execution_count": null,
   "metadata": {
    "collapsed": false
   },
   "outputs": [],
   "source": [
    "cdist = 100 - dist\n",
    "z = scipy.cluster.hierarchy.single(cdist)"
   ]
  },
  {
   "cell_type": "code",
   "execution_count": 21,
   "metadata": {
    "collapsed": true
   },
   "outputs": [],
   "source": [
    "import pymongo"
   ]
  },
  {
   "cell_type": "code",
   "execution_count": 23,
   "metadata": {
    "collapsed": false
   },
   "outputs": [
    {
     "name": "stdout",
     "output_type": "stream",
     "text": [
      "traceroute to www.yahoo.com (98.139.180.149), 30 hops max, 60 byte packets\n",
      " 1  nyc1-6500-vl1534.net.cornell.edu (132.236.249.129)  2.847 ms  6.764 ms  11.561 ms\n",
      " 2  core1-6500-vl13-vrf-nyc1.net.cornell.edu (128.253.222.189)  20.236 ms  20.251 ms  20.287 ms\n",
      " 3  core2-mx-xe-0-0-0.net.cornell.edu (128.253.222.61)  20.176 ms  20.160 ms  20.128 ms\n",
      " 4  cornellnet4-te1-2.net.cornell.edu (132.236.222.10)  33.425 ms  33.448 ms  33.440 ms\n",
      " 5  te0-0-1-0.agr11.syr01.atlas.cogentco.com (38.122.120.21)  20.002 ms  23.641 ms  23.547 ms\n",
      " 6  te0-0-2-2.rcr12.syr01.atlas.cogentco.com (154.54.45.214)  24.388 ms te0-0-2-2.rcr11.syr01.atlas.cogentco.com (154.54.45.93)  17.037 ms  19.850 ms\n",
      " 7  be2771.ccr22.alb02.atlas.cogentco.com (154.54.41.138)  24.307 ms  29.640 ms be2770.ccr21.alb02.atlas.cogentco.com (154.54.41.134)  41.130 ms\n",
      " 8  be2106.ccr41.jfk02.atlas.cogentco.com (154.54.3.49)  41.151 ms be2107.ccr42.jfk02.atlas.cogentco.com (154.54.3.93)  41.124 ms  41.117 ms\n",
      " 9  be2061.ccr21.jfk05.atlas.cogentco.com (154.54.3.70)  41.102 ms  41.089 ms  41.072 ms\n",
      "10  * * *\n",
      "11  YAHOO-INC.ear2.NewYork1.Level3.net (4.16.131.114)  79.094 ms  79.898 ms  79.919 ms\n",
      "12  ae-5.pat2.bfz.yahoo.com (216.115.96.67)  31.436 ms  34.260 ms  35.881 ms\n",
      "13  et-0-0-0.msr2.bf1.yahoo.com (74.6.227.137)  63.610 ms et-19-1-0.msr2.bf2.yahoo.com (74.6.227.151)  44.565 ms et-19-1-0.msr2.bf1.yahoo.com (74.6.227.141)  47.404 ms\n",
      "14  et-0-1-0.clr1-a-gdc.bf1.yahoo.com (74.6.122.13)  69.472 ms et-0-1-1.clr2-a-gdc.bf1.yahoo.com (74.6.122.19)  63.754 ms et-0-1-0.clr2-a-gdc.bf1.yahoo.com (74.6.122.17)  35.509 ms\n",
      "15  po8.fab3-1-gdc.bf1.yahoo.com (72.30.22.37)  63.300 ms po7.fab6-1-gdc.bf1.yahoo.com (72.30.22.11)  67.602 ms po8.fab6-1-gdc.bf1.yahoo.com (72.30.22.43)  68.844 ms\n",
      "16  po-13.bas2-7-prd.bf1.yahoo.com (98.139.129.211)  67.238 ms po-10.bas2-7-prd.bf1.yahoo.com (98.139.129.163)  48.013 ms po-14.bas1-7-prd.bf1.yahoo.com (98.139.129.225)  48.444 ms\n",
      "17  * * *\n",
      "18  * * *\n",
      "19  * * *\n",
      "20  * * *\n",
      "21  * * *\n",
      "22  * * *\n",
      "23  * * *\n",
      "24  * * *\n",
      "25  * * *\n",
      "26  * * *\n",
      "27  * * *\n",
      "28  * * *\n",
      "29  * * *\n",
      "30  * * *\n"
     ]
    }
   ],
   "source": [
    "%%bash\n",
    "traceroute www.yahoo.com"
   ]
  }
 ],
 "metadata": {
  "kernelspec": {
   "display_name": "Python 3",
   "language": "python",
   "name": "python3"
  },
  "language_info": {
   "codemirror_mode": {
    "name": "ipython",
    "version": 3
   },
   "file_extension": ".py",
   "mimetype": "text/x-python",
   "name": "python",
   "nbconvert_exporter": "python",
   "pygments_lexer": "ipython3",
   "version": "3.5.1"
  }
 },
 "nbformat": 4,
 "nbformat_minor": 0
}
